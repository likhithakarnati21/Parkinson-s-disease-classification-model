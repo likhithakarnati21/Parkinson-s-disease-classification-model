{
  "nbformat": 4,
  "nbformat_minor": 0,
  "metadata": {
    "colab": {
      "name": "Parkinsons Disease Classification.ipynb",
      "provenance": [],
      "collapsed_sections": [],
      "mount_file_id": "1u4oBgYdcqDvpcTp9q_UHx3YMxmjWisvq",
      "authorship_tag": "ABX9TyOeCmLM9CkFu2nvpnxuCZSl",
      "include_colab_link": true
    },
    "kernelspec": {
      "name": "python3",
      "display_name": "Python 3"
    },
    "language_info": {
      "name": "python"
    }
  },
  "cells": [
    {
      "cell_type": "markdown",
      "metadata": {
        "id": "view-in-github",
        "colab_type": "text"
      },
      "source": [
        "<a href=\"https://colab.research.google.com/github/likhithakarnati21/Parkinson-s-disease-classification-model/blob/main/Parkinsons_Disease_Classification.ipynb\" target=\"_parent\"><img src=\"https://colab.research.google.com/assets/colab-badge.svg\" alt=\"Open In Colab\"/></a>"
      ]
    },
    {
      "cell_type": "code",
      "metadata": {
        "colab": {
          "base_uri": "https://localhost:8080/",
          "height": 437
        },
        "id": "hbQ6TGjmi_sw",
        "outputId": "e58f58f0-560a-4c2c-8b77-a57416a781be"
      },
      "source": [
        "import pandas as pd\n",
        "df=pd.read_csv(\"/content/drive/MyDrive/projects/dataset/pd_speech_features.csv\")\n",
        "df"
      ],
      "execution_count": 14,
      "outputs": [
        {
          "output_type": "execute_result",
          "data": {
            "text/html": [
              "<div>\n",
              "<style scoped>\n",
              "    .dataframe tbody tr th:only-of-type {\n",
              "        vertical-align: middle;\n",
              "    }\n",
              "\n",
              "    .dataframe tbody tr th {\n",
              "        vertical-align: top;\n",
              "    }\n",
              "\n",
              "    .dataframe thead th {\n",
              "        text-align: right;\n",
              "    }\n",
              "</style>\n",
              "<table border=\"1\" class=\"dataframe\">\n",
              "  <thead>\n",
              "    <tr style=\"text-align: right;\">\n",
              "      <th></th>\n",
              "      <th>id</th>\n",
              "      <th>gender</th>\n",
              "      <th>PPE</th>\n",
              "      <th>DFA</th>\n",
              "      <th>RPDE</th>\n",
              "      <th>numPulses</th>\n",
              "      <th>numPeriodsPulses</th>\n",
              "      <th>meanPeriodPulses</th>\n",
              "      <th>stdDevPeriodPulses</th>\n",
              "      <th>locPctJitter</th>\n",
              "      <th>locAbsJitter</th>\n",
              "      <th>rapJitter</th>\n",
              "      <th>ppq5Jitter</th>\n",
              "      <th>ddpJitter</th>\n",
              "      <th>locShimmer</th>\n",
              "      <th>locDbShimmer</th>\n",
              "      <th>apq3Shimmer</th>\n",
              "      <th>apq5Shimmer</th>\n",
              "      <th>apq11Shimmer</th>\n",
              "      <th>ddaShimmer</th>\n",
              "      <th>meanAutoCorrHarmonicity</th>\n",
              "      <th>meanNoiseToHarmHarmonicity</th>\n",
              "      <th>meanHarmToNoiseHarmonicity</th>\n",
              "      <th>minIntensity</th>\n",
              "      <th>maxIntensity</th>\n",
              "      <th>meanIntensity</th>\n",
              "      <th>f1</th>\n",
              "      <th>f2</th>\n",
              "      <th>f3</th>\n",
              "      <th>f4</th>\n",
              "      <th>b1</th>\n",
              "      <th>b2</th>\n",
              "      <th>b3</th>\n",
              "      <th>b4</th>\n",
              "      <th>GQ_prc5_95</th>\n",
              "      <th>GQ_std_cycle_open</th>\n",
              "      <th>GQ_std_cycle_closed</th>\n",
              "      <th>GNE_mean</th>\n",
              "      <th>GNE_std</th>\n",
              "      <th>GNE_SNR_TKEO</th>\n",
              "      <th>...</th>\n",
              "      <th>tqwt_skewnessValue_dec_34</th>\n",
              "      <th>tqwt_skewnessValue_dec_35</th>\n",
              "      <th>tqwt_skewnessValue_dec_36</th>\n",
              "      <th>tqwt_kurtosisValue_dec_1</th>\n",
              "      <th>tqwt_kurtosisValue_dec_2</th>\n",
              "      <th>tqwt_kurtosisValue_dec_3</th>\n",
              "      <th>tqwt_kurtosisValue_dec_4</th>\n",
              "      <th>tqwt_kurtosisValue_dec_5</th>\n",
              "      <th>tqwt_kurtosisValue_dec_6</th>\n",
              "      <th>tqwt_kurtosisValue_dec_7</th>\n",
              "      <th>tqwt_kurtosisValue_dec_8</th>\n",
              "      <th>tqwt_kurtosisValue_dec_9</th>\n",
              "      <th>tqwt_kurtosisValue_dec_10</th>\n",
              "      <th>tqwt_kurtosisValue_dec_11</th>\n",
              "      <th>tqwt_kurtosisValue_dec_12</th>\n",
              "      <th>tqwt_kurtosisValue_dec_13</th>\n",
              "      <th>tqwt_kurtosisValue_dec_14</th>\n",
              "      <th>tqwt_kurtosisValue_dec_15</th>\n",
              "      <th>tqwt_kurtosisValue_dec_16</th>\n",
              "      <th>tqwt_kurtosisValue_dec_17</th>\n",
              "      <th>tqwt_kurtosisValue_dec_18</th>\n",
              "      <th>tqwt_kurtosisValue_dec_19</th>\n",
              "      <th>tqwt_kurtosisValue_dec_20</th>\n",
              "      <th>tqwt_kurtosisValue_dec_21</th>\n",
              "      <th>tqwt_kurtosisValue_dec_22</th>\n",
              "      <th>tqwt_kurtosisValue_dec_23</th>\n",
              "      <th>tqwt_kurtosisValue_dec_24</th>\n",
              "      <th>tqwt_kurtosisValue_dec_25</th>\n",
              "      <th>tqwt_kurtosisValue_dec_26</th>\n",
              "      <th>tqwt_kurtosisValue_dec_27</th>\n",
              "      <th>tqwt_kurtosisValue_dec_28</th>\n",
              "      <th>tqwt_kurtosisValue_dec_29</th>\n",
              "      <th>tqwt_kurtosisValue_dec_30</th>\n",
              "      <th>tqwt_kurtosisValue_dec_31</th>\n",
              "      <th>tqwt_kurtosisValue_dec_32</th>\n",
              "      <th>tqwt_kurtosisValue_dec_33</th>\n",
              "      <th>tqwt_kurtosisValue_dec_34</th>\n",
              "      <th>tqwt_kurtosisValue_dec_35</th>\n",
              "      <th>tqwt_kurtosisValue_dec_36</th>\n",
              "      <th>class</th>\n",
              "    </tr>\n",
              "  </thead>\n",
              "  <tbody>\n",
              "    <tr>\n",
              "      <th>0</th>\n",
              "      <td>0</td>\n",
              "      <td>1</td>\n",
              "      <td>0.85247</td>\n",
              "      <td>0.71826</td>\n",
              "      <td>0.57227</td>\n",
              "      <td>240</td>\n",
              "      <td>239</td>\n",
              "      <td>0.008064</td>\n",
              "      <td>0.000087</td>\n",
              "      <td>0.00218</td>\n",
              "      <td>0.000018</td>\n",
              "      <td>0.00067</td>\n",
              "      <td>0.00129</td>\n",
              "      <td>0.00200</td>\n",
              "      <td>0.05883</td>\n",
              "      <td>0.517</td>\n",
              "      <td>0.03011</td>\n",
              "      <td>0.03496</td>\n",
              "      <td>0.04828</td>\n",
              "      <td>0.09034</td>\n",
              "      <td>0.970805</td>\n",
              "      <td>0.036223</td>\n",
              "      <td>18.995</td>\n",
              "      <td>69.997496</td>\n",
              "      <td>76.088046</td>\n",
              "      <td>72.465512</td>\n",
              "      <td>539.342735</td>\n",
              "      <td>1031.849040</td>\n",
              "      <td>2447.162183</td>\n",
              "      <td>3655.054806</td>\n",
              "      <td>101.092218</td>\n",
              "      <td>83.147440</td>\n",
              "      <td>255.214830</td>\n",
              "      <td>396.643631</td>\n",
              "      <td>0.77778</td>\n",
              "      <td>11.7245</td>\n",
              "      <td>2.8277</td>\n",
              "      <td>1.17300</td>\n",
              "      <td>0.265120</td>\n",
              "      <td>0.083127</td>\n",
              "      <td>...</td>\n",
              "      <td>0.071728</td>\n",
              "      <td>0.010352</td>\n",
              "      <td>-2.730300</td>\n",
              "      <td>66.5007</td>\n",
              "      <td>36.9934</td>\n",
              "      <td>26.3508</td>\n",
              "      <td>51.9577</td>\n",
              "      <td>21.5451</td>\n",
              "      <td>8.2488</td>\n",
              "      <td>8.0024</td>\n",
              "      <td>6.9635</td>\n",
              "      <td>6.9189</td>\n",
              "      <td>5.0622</td>\n",
              "      <td>4.6068</td>\n",
              "      <td>7.7218</td>\n",
              "      <td>2.7224</td>\n",
              "      <td>2.4171</td>\n",
              "      <td>2.9383</td>\n",
              "      <td>4.2077</td>\n",
              "      <td>3.1541</td>\n",
              "      <td>2.8531</td>\n",
              "      <td>2.7496</td>\n",
              "      <td>2.1550</td>\n",
              "      <td>2.9457</td>\n",
              "      <td>2.1993</td>\n",
              "      <td>1.9830</td>\n",
              "      <td>1.8314</td>\n",
              "      <td>2.0062</td>\n",
              "      <td>1.6058</td>\n",
              "      <td>1.5466</td>\n",
              "      <td>1.5620</td>\n",
              "      <td>2.6445</td>\n",
              "      <td>3.8686</td>\n",
              "      <td>4.2105</td>\n",
              "      <td>5.1221</td>\n",
              "      <td>4.4625</td>\n",
              "      <td>2.6202</td>\n",
              "      <td>3.0004</td>\n",
              "      <td>18.9405</td>\n",
              "      <td>1</td>\n",
              "    </tr>\n",
              "    <tr>\n",
              "      <th>1</th>\n",
              "      <td>0</td>\n",
              "      <td>1</td>\n",
              "      <td>0.76686</td>\n",
              "      <td>0.69481</td>\n",
              "      <td>0.53966</td>\n",
              "      <td>234</td>\n",
              "      <td>233</td>\n",
              "      <td>0.008258</td>\n",
              "      <td>0.000073</td>\n",
              "      <td>0.00195</td>\n",
              "      <td>0.000016</td>\n",
              "      <td>0.00052</td>\n",
              "      <td>0.00112</td>\n",
              "      <td>0.00157</td>\n",
              "      <td>0.05516</td>\n",
              "      <td>0.502</td>\n",
              "      <td>0.02320</td>\n",
              "      <td>0.03675</td>\n",
              "      <td>0.06195</td>\n",
              "      <td>0.06961</td>\n",
              "      <td>0.984322</td>\n",
              "      <td>0.017974</td>\n",
              "      <td>21.497</td>\n",
              "      <td>67.415903</td>\n",
              "      <td>73.046374</td>\n",
              "      <td>71.528945</td>\n",
              "      <td>564.363614</td>\n",
              "      <td>1016.367294</td>\n",
              "      <td>2383.565201</td>\n",
              "      <td>3498.681572</td>\n",
              "      <td>58.465428</td>\n",
              "      <td>86.487292</td>\n",
              "      <td>248.357127</td>\n",
              "      <td>218.229722</td>\n",
              "      <td>0.81250</td>\n",
              "      <td>13.8284</td>\n",
              "      <td>2.8908</td>\n",
              "      <td>1.02210</td>\n",
              "      <td>0.220040</td>\n",
              "      <td>0.127410</td>\n",
              "      <td>...</td>\n",
              "      <td>0.729330</td>\n",
              "      <td>0.780410</td>\n",
              "      <td>5.229400</td>\n",
              "      <td>8643.9860</td>\n",
              "      <td>3962.0554</td>\n",
              "      <td>2976.2411</td>\n",
              "      <td>4329.0607</td>\n",
              "      <td>4005.1329</td>\n",
              "      <td>1127.6762</td>\n",
              "      <td>116.5331</td>\n",
              "      <td>20.2332</td>\n",
              "      <td>13.6395</td>\n",
              "      <td>12.5514</td>\n",
              "      <td>13.6965</td>\n",
              "      <td>60.8974</td>\n",
              "      <td>6.2958</td>\n",
              "      <td>3.0323</td>\n",
              "      <td>3.4039</td>\n",
              "      <td>4.3794</td>\n",
              "      <td>2.4329</td>\n",
              "      <td>2.0585</td>\n",
              "      <td>2.1839</td>\n",
              "      <td>2.2061</td>\n",
              "      <td>3.0999</td>\n",
              "      <td>1.9824</td>\n",
              "      <td>1.6227</td>\n",
              "      <td>1.5783</td>\n",
              "      <td>2.0470</td>\n",
              "      <td>1.5772</td>\n",
              "      <td>1.5530</td>\n",
              "      <td>1.5589</td>\n",
              "      <td>3.6107</td>\n",
              "      <td>23.5155</td>\n",
              "      <td>14.1962</td>\n",
              "      <td>11.0261</td>\n",
              "      <td>9.5082</td>\n",
              "      <td>6.5245</td>\n",
              "      <td>6.3431</td>\n",
              "      <td>45.1780</td>\n",
              "      <td>1</td>\n",
              "    </tr>\n",
              "    <tr>\n",
              "      <th>2</th>\n",
              "      <td>0</td>\n",
              "      <td>1</td>\n",
              "      <td>0.85083</td>\n",
              "      <td>0.67604</td>\n",
              "      <td>0.58982</td>\n",
              "      <td>232</td>\n",
              "      <td>231</td>\n",
              "      <td>0.008340</td>\n",
              "      <td>0.000060</td>\n",
              "      <td>0.00176</td>\n",
              "      <td>0.000015</td>\n",
              "      <td>0.00057</td>\n",
              "      <td>0.00111</td>\n",
              "      <td>0.00171</td>\n",
              "      <td>0.09902</td>\n",
              "      <td>0.897</td>\n",
              "      <td>0.05094</td>\n",
              "      <td>0.06497</td>\n",
              "      <td>0.07772</td>\n",
              "      <td>0.15282</td>\n",
              "      <td>0.974846</td>\n",
              "      <td>0.026313</td>\n",
              "      <td>17.651</td>\n",
              "      <td>62.661706</td>\n",
              "      <td>71.633549</td>\n",
              "      <td>68.086583</td>\n",
              "      <td>548.444604</td>\n",
              "      <td>1032.406341</td>\n",
              "      <td>2357.826954</td>\n",
              "      <td>3678.128717</td>\n",
              "      <td>160.387771</td>\n",
              "      <td>54.685168</td>\n",
              "      <td>151.694847</td>\n",
              "      <td>84.240339</td>\n",
              "      <td>0.81818</td>\n",
              "      <td>26.9273</td>\n",
              "      <td>2.6975</td>\n",
              "      <td>0.84951</td>\n",
              "      <td>0.157560</td>\n",
              "      <td>0.116890</td>\n",
              "      <td>...</td>\n",
              "      <td>0.269510</td>\n",
              "      <td>-0.005522</td>\n",
              "      <td>0.350540</td>\n",
              "      <td>29.2717</td>\n",
              "      <td>32.4971</td>\n",
              "      <td>38.9453</td>\n",
              "      <td>85.1480</td>\n",
              "      <td>62.5132</td>\n",
              "      <td>9.7308</td>\n",
              "      <td>6.8890</td>\n",
              "      <td>6.1357</td>\n",
              "      <td>5.4926</td>\n",
              "      <td>3.9078</td>\n",
              "      <td>4.0864</td>\n",
              "      <td>6.9828</td>\n",
              "      <td>3.4411</td>\n",
              "      <td>3.5173</td>\n",
              "      <td>3.7204</td>\n",
              "      <td>4.2212</td>\n",
              "      <td>3.4881</td>\n",
              "      <td>3.4851</td>\n",
              "      <td>3.3007</td>\n",
              "      <td>2.0427</td>\n",
              "      <td>3.1436</td>\n",
              "      <td>2.1203</td>\n",
              "      <td>1.6627</td>\n",
              "      <td>1.6731</td>\n",
              "      <td>3.2597</td>\n",
              "      <td>1.5921</td>\n",
              "      <td>1.5399</td>\n",
              "      <td>1.5643</td>\n",
              "      <td>2.3308</td>\n",
              "      <td>9.4959</td>\n",
              "      <td>10.7458</td>\n",
              "      <td>11.0177</td>\n",
              "      <td>4.8066</td>\n",
              "      <td>2.9199</td>\n",
              "      <td>3.1495</td>\n",
              "      <td>4.7666</td>\n",
              "      <td>1</td>\n",
              "    </tr>\n",
              "    <tr>\n",
              "      <th>3</th>\n",
              "      <td>1</td>\n",
              "      <td>0</td>\n",
              "      <td>0.41121</td>\n",
              "      <td>0.79672</td>\n",
              "      <td>0.59257</td>\n",
              "      <td>178</td>\n",
              "      <td>177</td>\n",
              "      <td>0.010858</td>\n",
              "      <td>0.000183</td>\n",
              "      <td>0.00419</td>\n",
              "      <td>0.000046</td>\n",
              "      <td>0.00149</td>\n",
              "      <td>0.00268</td>\n",
              "      <td>0.00446</td>\n",
              "      <td>0.05451</td>\n",
              "      <td>0.527</td>\n",
              "      <td>0.02395</td>\n",
              "      <td>0.02857</td>\n",
              "      <td>0.04462</td>\n",
              "      <td>0.07185</td>\n",
              "      <td>0.968343</td>\n",
              "      <td>0.042003</td>\n",
              "      <td>19.865</td>\n",
              "      <td>76.306989</td>\n",
              "      <td>81.000749</td>\n",
              "      <td>79.190593</td>\n",
              "      <td>819.529588</td>\n",
              "      <td>1201.813897</td>\n",
              "      <td>3154.035654</td>\n",
              "      <td>4122.163933</td>\n",
              "      <td>238.667052</td>\n",
              "      <td>191.984916</td>\n",
              "      <td>573.752909</td>\n",
              "      <td>526.147599</td>\n",
              "      <td>0.98548</td>\n",
              "      <td>139.5744</td>\n",
              "      <td>1.6961</td>\n",
              "      <td>0.83405</td>\n",
              "      <td>0.172950</td>\n",
              "      <td>0.147370</td>\n",
              "      <td>...</td>\n",
              "      <td>0.366920</td>\n",
              "      <td>-0.492650</td>\n",
              "      <td>0.191640</td>\n",
              "      <td>591.0116</td>\n",
              "      <td>65.3827</td>\n",
              "      <td>53.9852</td>\n",
              "      <td>45.4458</td>\n",
              "      <td>34.6650</td>\n",
              "      <td>88.3259</td>\n",
              "      <td>46.6869</td>\n",
              "      <td>23.2911</td>\n",
              "      <td>19.2022</td>\n",
              "      <td>42.3957</td>\n",
              "      <td>100.3649</td>\n",
              "      <td>7.1967</td>\n",
              "      <td>6.3892</td>\n",
              "      <td>6.5496</td>\n",
              "      <td>6.0264</td>\n",
              "      <td>4.7656</td>\n",
              "      <td>4.8909</td>\n",
              "      <td>4.2531</td>\n",
              "      <td>3.0295</td>\n",
              "      <td>2.0362</td>\n",
              "      <td>1.8478</td>\n",
              "      <td>2.5776</td>\n",
              "      <td>2.2064</td>\n",
              "      <td>1.9491</td>\n",
              "      <td>1.9120</td>\n",
              "      <td>1.8829</td>\n",
              "      <td>6.9761</td>\n",
              "      <td>3.7805</td>\n",
              "      <td>3.5664</td>\n",
              "      <td>5.2558</td>\n",
              "      <td>14.0403</td>\n",
              "      <td>4.2235</td>\n",
              "      <td>4.6857</td>\n",
              "      <td>4.8460</td>\n",
              "      <td>6.2650</td>\n",
              "      <td>4.0603</td>\n",
              "      <td>1</td>\n",
              "    </tr>\n",
              "    <tr>\n",
              "      <th>4</th>\n",
              "      <td>1</td>\n",
              "      <td>0</td>\n",
              "      <td>0.32790</td>\n",
              "      <td>0.79782</td>\n",
              "      <td>0.53028</td>\n",
              "      <td>236</td>\n",
              "      <td>235</td>\n",
              "      <td>0.008162</td>\n",
              "      <td>0.002669</td>\n",
              "      <td>0.00535</td>\n",
              "      <td>0.000044</td>\n",
              "      <td>0.00166</td>\n",
              "      <td>0.00227</td>\n",
              "      <td>0.00499</td>\n",
              "      <td>0.05610</td>\n",
              "      <td>0.497</td>\n",
              "      <td>0.02909</td>\n",
              "      <td>0.03327</td>\n",
              "      <td>0.05278</td>\n",
              "      <td>0.08728</td>\n",
              "      <td>0.975754</td>\n",
              "      <td>0.027139</td>\n",
              "      <td>19.557</td>\n",
              "      <td>76.645686</td>\n",
              "      <td>80.937258</td>\n",
              "      <td>79.183495</td>\n",
              "      <td>846.796144</td>\n",
              "      <td>1215.346469</td>\n",
              "      <td>3201.513132</td>\n",
              "      <td>4085.456839</td>\n",
              "      <td>402.216738</td>\n",
              "      <td>210.061394</td>\n",
              "      <td>203.637106</td>\n",
              "      <td>384.611697</td>\n",
              "      <td>0.97847</td>\n",
              "      <td>102.0549</td>\n",
              "      <td>15.4045</td>\n",
              "      <td>0.83556</td>\n",
              "      <td>0.162100</td>\n",
              "      <td>0.151990</td>\n",
              "      <td>...</td>\n",
              "      <td>-0.378360</td>\n",
              "      <td>-0.035805</td>\n",
              "      <td>0.265960</td>\n",
              "      <td>32.0393</td>\n",
              "      <td>7.2343</td>\n",
              "      <td>6.5540</td>\n",
              "      <td>6.4520</td>\n",
              "      <td>6.9274</td>\n",
              "      <td>10.2265</td>\n",
              "      <td>14.2579</td>\n",
              "      <td>10.6181</td>\n",
              "      <td>8.6143</td>\n",
              "      <td>9.5822</td>\n",
              "      <td>34.0835</td>\n",
              "      <td>4.1139</td>\n",
              "      <td>3.6718</td>\n",
              "      <td>4.4360</td>\n",
              "      <td>4.5793</td>\n",
              "      <td>3.9447</td>\n",
              "      <td>4.1253</td>\n",
              "      <td>3.4869</td>\n",
              "      <td>2.4627</td>\n",
              "      <td>2.1073</td>\n",
              "      <td>1.9056</td>\n",
              "      <td>2.2214</td>\n",
              "      <td>2.0588</td>\n",
              "      <td>1.8157</td>\n",
              "      <td>1.7577</td>\n",
              "      <td>1.8821</td>\n",
              "      <td>7.8832</td>\n",
              "      <td>6.1727</td>\n",
              "      <td>5.8416</td>\n",
              "      <td>6.0805</td>\n",
              "      <td>5.7621</td>\n",
              "      <td>7.7817</td>\n",
              "      <td>11.6891</td>\n",
              "      <td>8.2103</td>\n",
              "      <td>5.0559</td>\n",
              "      <td>6.1164</td>\n",
              "      <td>1</td>\n",
              "    </tr>\n",
              "    <tr>\n",
              "      <th>...</th>\n",
              "      <td>...</td>\n",
              "      <td>...</td>\n",
              "      <td>...</td>\n",
              "      <td>...</td>\n",
              "      <td>...</td>\n",
              "      <td>...</td>\n",
              "      <td>...</td>\n",
              "      <td>...</td>\n",
              "      <td>...</td>\n",
              "      <td>...</td>\n",
              "      <td>...</td>\n",
              "      <td>...</td>\n",
              "      <td>...</td>\n",
              "      <td>...</td>\n",
              "      <td>...</td>\n",
              "      <td>...</td>\n",
              "      <td>...</td>\n",
              "      <td>...</td>\n",
              "      <td>...</td>\n",
              "      <td>...</td>\n",
              "      <td>...</td>\n",
              "      <td>...</td>\n",
              "      <td>...</td>\n",
              "      <td>...</td>\n",
              "      <td>...</td>\n",
              "      <td>...</td>\n",
              "      <td>...</td>\n",
              "      <td>...</td>\n",
              "      <td>...</td>\n",
              "      <td>...</td>\n",
              "      <td>...</td>\n",
              "      <td>...</td>\n",
              "      <td>...</td>\n",
              "      <td>...</td>\n",
              "      <td>...</td>\n",
              "      <td>...</td>\n",
              "      <td>...</td>\n",
              "      <td>...</td>\n",
              "      <td>...</td>\n",
              "      <td>...</td>\n",
              "      <td>...</td>\n",
              "      <td>...</td>\n",
              "      <td>...</td>\n",
              "      <td>...</td>\n",
              "      <td>...</td>\n",
              "      <td>...</td>\n",
              "      <td>...</td>\n",
              "      <td>...</td>\n",
              "      <td>...</td>\n",
              "      <td>...</td>\n",
              "      <td>...</td>\n",
              "      <td>...</td>\n",
              "      <td>...</td>\n",
              "      <td>...</td>\n",
              "      <td>...</td>\n",
              "      <td>...</td>\n",
              "      <td>...</td>\n",
              "      <td>...</td>\n",
              "      <td>...</td>\n",
              "      <td>...</td>\n",
              "      <td>...</td>\n",
              "      <td>...</td>\n",
              "      <td>...</td>\n",
              "      <td>...</td>\n",
              "      <td>...</td>\n",
              "      <td>...</td>\n",
              "      <td>...</td>\n",
              "      <td>...</td>\n",
              "      <td>...</td>\n",
              "      <td>...</td>\n",
              "      <td>...</td>\n",
              "      <td>...</td>\n",
              "      <td>...</td>\n",
              "      <td>...</td>\n",
              "      <td>...</td>\n",
              "      <td>...</td>\n",
              "      <td>...</td>\n",
              "      <td>...</td>\n",
              "      <td>...</td>\n",
              "      <td>...</td>\n",
              "      <td>...</td>\n",
              "    </tr>\n",
              "    <tr>\n",
              "      <th>751</th>\n",
              "      <td>250</td>\n",
              "      <td>0</td>\n",
              "      <td>0.80903</td>\n",
              "      <td>0.56355</td>\n",
              "      <td>0.28385</td>\n",
              "      <td>417</td>\n",
              "      <td>416</td>\n",
              "      <td>0.004627</td>\n",
              "      <td>0.000052</td>\n",
              "      <td>0.00064</td>\n",
              "      <td>0.000003</td>\n",
              "      <td>0.00008</td>\n",
              "      <td>0.00022</td>\n",
              "      <td>0.00024</td>\n",
              "      <td>0.01947</td>\n",
              "      <td>0.171</td>\n",
              "      <td>0.01068</td>\n",
              "      <td>0.01260</td>\n",
              "      <td>0.01547</td>\n",
              "      <td>0.03204</td>\n",
              "      <td>0.997438</td>\n",
              "      <td>0.002571</td>\n",
              "      <td>26.813</td>\n",
              "      <td>79.991789</td>\n",
              "      <td>82.239447</td>\n",
              "      <td>81.244436</td>\n",
              "      <td>881.915768</td>\n",
              "      <td>1395.398812</td>\n",
              "      <td>2862.850072</td>\n",
              "      <td>3285.426385</td>\n",
              "      <td>88.521045</td>\n",
              "      <td>80.283013</td>\n",
              "      <td>836.862497</td>\n",
              "      <td>2954.030296</td>\n",
              "      <td>1.00000</td>\n",
              "      <td>58.5451</td>\n",
              "      <td>0.0000</td>\n",
              "      <td>1.17130</td>\n",
              "      <td>0.129530</td>\n",
              "      <td>0.139260</td>\n",
              "      <td>...</td>\n",
              "      <td>0.077731</td>\n",
              "      <td>0.138020</td>\n",
              "      <td>0.992540</td>\n",
              "      <td>766.6022</td>\n",
              "      <td>92.3168</td>\n",
              "      <td>58.8803</td>\n",
              "      <td>43.6169</td>\n",
              "      <td>18.5289</td>\n",
              "      <td>7.5735</td>\n",
              "      <td>5.2459</td>\n",
              "      <td>5.0495</td>\n",
              "      <td>5.0089</td>\n",
              "      <td>7.5061</td>\n",
              "      <td>5.1805</td>\n",
              "      <td>2.2514</td>\n",
              "      <td>2.2220</td>\n",
              "      <td>2.1739</td>\n",
              "      <td>2.1970</td>\n",
              "      <td>1.6902</td>\n",
              "      <td>1.6711</td>\n",
              "      <td>2.4098</td>\n",
              "      <td>2.2003</td>\n",
              "      <td>1.6249</td>\n",
              "      <td>1.6752</td>\n",
              "      <td>2.3686</td>\n",
              "      <td>1.6420</td>\n",
              "      <td>1.6785</td>\n",
              "      <td>1.7601</td>\n",
              "      <td>10.1906</td>\n",
              "      <td>3.4394</td>\n",
              "      <td>3.0706</td>\n",
              "      <td>3.0190</td>\n",
              "      <td>3.1212</td>\n",
              "      <td>2.4921</td>\n",
              "      <td>3.5844</td>\n",
              "      <td>3.5400</td>\n",
              "      <td>3.3805</td>\n",
              "      <td>3.2003</td>\n",
              "      <td>6.8671</td>\n",
              "      <td>0</td>\n",
              "    </tr>\n",
              "    <tr>\n",
              "      <th>752</th>\n",
              "      <td>250</td>\n",
              "      <td>0</td>\n",
              "      <td>0.16084</td>\n",
              "      <td>0.56499</td>\n",
              "      <td>0.59194</td>\n",
              "      <td>415</td>\n",
              "      <td>413</td>\n",
              "      <td>0.004550</td>\n",
              "      <td>0.000220</td>\n",
              "      <td>0.00143</td>\n",
              "      <td>0.000006</td>\n",
              "      <td>0.00016</td>\n",
              "      <td>0.00041</td>\n",
              "      <td>0.00047</td>\n",
              "      <td>0.04291</td>\n",
              "      <td>0.482</td>\n",
              "      <td>0.02307</td>\n",
              "      <td>0.02626</td>\n",
              "      <td>0.03272</td>\n",
              "      <td>0.06920</td>\n",
              "      <td>0.976867</td>\n",
              "      <td>0.025519</td>\n",
              "      <td>17.802</td>\n",
              "      <td>70.191330</td>\n",
              "      <td>81.606291</td>\n",
              "      <td>79.423824</td>\n",
              "      <td>907.787590</td>\n",
              "      <td>1406.737344</td>\n",
              "      <td>2958.433790</td>\n",
              "      <td>3819.231665</td>\n",
              "      <td>31.238251</td>\n",
              "      <td>38.919082</td>\n",
              "      <td>5913.036193</td>\n",
              "      <td>472.403606</td>\n",
              "      <td>1.00000</td>\n",
              "      <td>14.5816</td>\n",
              "      <td>0.0000</td>\n",
              "      <td>1.19440</td>\n",
              "      <td>0.267640</td>\n",
              "      <td>0.113530</td>\n",
              "      <td>...</td>\n",
              "      <td>0.255650</td>\n",
              "      <td>-0.595620</td>\n",
              "      <td>2.115100</td>\n",
              "      <td>34.9777</td>\n",
              "      <td>19.5854</td>\n",
              "      <td>18.6791</td>\n",
              "      <td>13.2161</td>\n",
              "      <td>10.2285</td>\n",
              "      <td>6.6010</td>\n",
              "      <td>5.8541</td>\n",
              "      <td>5.8743</td>\n",
              "      <td>6.0817</td>\n",
              "      <td>6.6246</td>\n",
              "      <td>5.3809</td>\n",
              "      <td>2.7024</td>\n",
              "      <td>2.6653</td>\n",
              "      <td>2.8792</td>\n",
              "      <td>2.6471</td>\n",
              "      <td>2.1520</td>\n",
              "      <td>2.0307</td>\n",
              "      <td>2.8916</td>\n",
              "      <td>2.8527</td>\n",
              "      <td>2.0698</td>\n",
              "      <td>2.0290</td>\n",
              "      <td>4.8587</td>\n",
              "      <td>3.7826</td>\n",
              "      <td>2.6391</td>\n",
              "      <td>3.3455</td>\n",
              "      <td>22.4043</td>\n",
              "      <td>19.6733</td>\n",
              "      <td>1.9704</td>\n",
              "      <td>1.7451</td>\n",
              "      <td>1.8277</td>\n",
              "      <td>2.4976</td>\n",
              "      <td>5.2981</td>\n",
              "      <td>4.2616</td>\n",
              "      <td>6.3042</td>\n",
              "      <td>10.9058</td>\n",
              "      <td>28.4170</td>\n",
              "      <td>0</td>\n",
              "    </tr>\n",
              "    <tr>\n",
              "      <th>753</th>\n",
              "      <td>251</td>\n",
              "      <td>0</td>\n",
              "      <td>0.88389</td>\n",
              "      <td>0.72335</td>\n",
              "      <td>0.46815</td>\n",
              "      <td>381</td>\n",
              "      <td>380</td>\n",
              "      <td>0.005069</td>\n",
              "      <td>0.000103</td>\n",
              "      <td>0.00076</td>\n",
              "      <td>0.000004</td>\n",
              "      <td>0.00011</td>\n",
              "      <td>0.00030</td>\n",
              "      <td>0.00034</td>\n",
              "      <td>0.02978</td>\n",
              "      <td>0.263</td>\n",
              "      <td>0.01597</td>\n",
              "      <td>0.01916</td>\n",
              "      <td>0.02271</td>\n",
              "      <td>0.04790</td>\n",
              "      <td>0.995544</td>\n",
              "      <td>0.004480</td>\n",
              "      <td>24.005</td>\n",
              "      <td>75.091300</td>\n",
              "      <td>77.612498</td>\n",
              "      <td>76.485859</td>\n",
              "      <td>687.046383</td>\n",
              "      <td>1382.653498</td>\n",
              "      <td>2189.489101</td>\n",
              "      <td>3344.351359</td>\n",
              "      <td>250.727258</td>\n",
              "      <td>2566.530343</td>\n",
              "      <td>149.117330</td>\n",
              "      <td>232.686866</td>\n",
              "      <td>1.00000</td>\n",
              "      <td>6.6615</td>\n",
              "      <td>0.0000</td>\n",
              "      <td>0.97851</td>\n",
              "      <td>0.131880</td>\n",
              "      <td>0.132760</td>\n",
              "      <td>...</td>\n",
              "      <td>-0.029656</td>\n",
              "      <td>0.092881</td>\n",
              "      <td>0.086911</td>\n",
              "      <td>403.7367</td>\n",
              "      <td>21.0751</td>\n",
              "      <td>6.6428</td>\n",
              "      <td>5.2851</td>\n",
              "      <td>5.3273</td>\n",
              "      <td>5.5593</td>\n",
              "      <td>4.0632</td>\n",
              "      <td>4.0856</td>\n",
              "      <td>4.6471</td>\n",
              "      <td>5.0046</td>\n",
              "      <td>3.4505</td>\n",
              "      <td>3.0544</td>\n",
              "      <td>3.1043</td>\n",
              "      <td>4.5741</td>\n",
              "      <td>3.6070</td>\n",
              "      <td>2.6502</td>\n",
              "      <td>2.5333</td>\n",
              "      <td>2.1353</td>\n",
              "      <td>2.1454</td>\n",
              "      <td>1.9942</td>\n",
              "      <td>1.7190</td>\n",
              "      <td>2.6232</td>\n",
              "      <td>1.6892</td>\n",
              "      <td>1.6263</td>\n",
              "      <td>1.6380</td>\n",
              "      <td>2.3279</td>\n",
              "      <td>137.3126</td>\n",
              "      <td>51.5607</td>\n",
              "      <td>44.4641</td>\n",
              "      <td>26.1586</td>\n",
              "      <td>6.3076</td>\n",
              "      <td>2.8601</td>\n",
              "      <td>2.5361</td>\n",
              "      <td>3.5377</td>\n",
              "      <td>3.3545</td>\n",
              "      <td>5.0424</td>\n",
              "      <td>0</td>\n",
              "    </tr>\n",
              "    <tr>\n",
              "      <th>754</th>\n",
              "      <td>251</td>\n",
              "      <td>0</td>\n",
              "      <td>0.83782</td>\n",
              "      <td>0.74890</td>\n",
              "      <td>0.49823</td>\n",
              "      <td>340</td>\n",
              "      <td>339</td>\n",
              "      <td>0.005679</td>\n",
              "      <td>0.000055</td>\n",
              "      <td>0.00092</td>\n",
              "      <td>0.000005</td>\n",
              "      <td>0.00017</td>\n",
              "      <td>0.00041</td>\n",
              "      <td>0.00052</td>\n",
              "      <td>0.03552</td>\n",
              "      <td>0.311</td>\n",
              "      <td>0.01791</td>\n",
              "      <td>0.02348</td>\n",
              "      <td>0.02648</td>\n",
              "      <td>0.05373</td>\n",
              "      <td>0.988241</td>\n",
              "      <td>0.011931</td>\n",
              "      <td>19.706</td>\n",
              "      <td>76.168804</td>\n",
              "      <td>79.266058</td>\n",
              "      <td>77.870915</td>\n",
              "      <td>771.948334</td>\n",
              "      <td>1657.021811</td>\n",
              "      <td>2914.862553</td>\n",
              "      <td>3789.033261</td>\n",
              "      <td>148.537987</td>\n",
              "      <td>107.101663</td>\n",
              "      <td>194.220698</td>\n",
              "      <td>339.805353</td>\n",
              "      <td>1.00000</td>\n",
              "      <td>6.2636</td>\n",
              "      <td>0.0000</td>\n",
              "      <td>0.87012</td>\n",
              "      <td>0.134290</td>\n",
              "      <td>0.152170</td>\n",
              "      <td>...</td>\n",
              "      <td>-0.185180</td>\n",
              "      <td>-0.170720</td>\n",
              "      <td>0.009233</td>\n",
              "      <td>4168.7112</td>\n",
              "      <td>288.4453</td>\n",
              "      <td>148.1733</td>\n",
              "      <td>63.1895</td>\n",
              "      <td>33.9632</td>\n",
              "      <td>12.4309</td>\n",
              "      <td>4.7000</td>\n",
              "      <td>5.0041</td>\n",
              "      <td>5.4431</td>\n",
              "      <td>5.2706</td>\n",
              "      <td>3.7900</td>\n",
              "      <td>3.0156</td>\n",
              "      <td>2.9225</td>\n",
              "      <td>4.7477</td>\n",
              "      <td>3.7193</td>\n",
              "      <td>3.0540</td>\n",
              "      <td>2.4262</td>\n",
              "      <td>2.2441</td>\n",
              "      <td>2.0722</td>\n",
              "      <td>2.3155</td>\n",
              "      <td>1.5696</td>\n",
              "      <td>1.6265</td>\n",
              "      <td>1.6850</td>\n",
              "      <td>1.5701</td>\n",
              "      <td>1.5692</td>\n",
              "      <td>1.6052</td>\n",
              "      <td>5.4425</td>\n",
              "      <td>19.1607</td>\n",
              "      <td>12.8312</td>\n",
              "      <td>8.9434</td>\n",
              "      <td>2.2044</td>\n",
              "      <td>1.9496</td>\n",
              "      <td>1.9664</td>\n",
              "      <td>2.6801</td>\n",
              "      <td>2.8332</td>\n",
              "      <td>3.7131</td>\n",
              "      <td>0</td>\n",
              "    </tr>\n",
              "    <tr>\n",
              "      <th>755</th>\n",
              "      <td>251</td>\n",
              "      <td>0</td>\n",
              "      <td>0.81304</td>\n",
              "      <td>0.76471</td>\n",
              "      <td>0.46374</td>\n",
              "      <td>340</td>\n",
              "      <td>339</td>\n",
              "      <td>0.005676</td>\n",
              "      <td>0.000037</td>\n",
              "      <td>0.00078</td>\n",
              "      <td>0.000004</td>\n",
              "      <td>0.00014</td>\n",
              "      <td>0.00033</td>\n",
              "      <td>0.00042</td>\n",
              "      <td>0.03702</td>\n",
              "      <td>0.326</td>\n",
              "      <td>0.01940</td>\n",
              "      <td>0.02332</td>\n",
              "      <td>0.02765</td>\n",
              "      <td>0.05820</td>\n",
              "      <td>0.996402</td>\n",
              "      <td>0.003615</td>\n",
              "      <td>25.276</td>\n",
              "      <td>76.076331</td>\n",
              "      <td>79.670177</td>\n",
              "      <td>77.995949</td>\n",
              "      <td>706.567000</td>\n",
              "      <td>1612.140356</td>\n",
              "      <td>2892.932567</td>\n",
              "      <td>4012.558775</td>\n",
              "      <td>253.002448</td>\n",
              "      <td>118.148822</td>\n",
              "      <td>374.755472</td>\n",
              "      <td>315.624916</td>\n",
              "      <td>1.00000</td>\n",
              "      <td>5.4399</td>\n",
              "      <td>0.0000</td>\n",
              "      <td>0.81328</td>\n",
              "      <td>0.086543</td>\n",
              "      <td>0.143040</td>\n",
              "      <td>...</td>\n",
              "      <td>-0.405800</td>\n",
              "      <td>-0.016577</td>\n",
              "      <td>-0.011918</td>\n",
              "      <td>1350.6498</td>\n",
              "      <td>39.6924</td>\n",
              "      <td>88.7012</td>\n",
              "      <td>78.8415</td>\n",
              "      <td>59.5400</td>\n",
              "      <td>168.2406</td>\n",
              "      <td>38.1243</td>\n",
              "      <td>12.1613</td>\n",
              "      <td>7.0117</td>\n",
              "      <td>7.0698</td>\n",
              "      <td>4.0836</td>\n",
              "      <td>3.1870</td>\n",
              "      <td>3.1537</td>\n",
              "      <td>5.0089</td>\n",
              "      <td>4.3831</td>\n",
              "      <td>3.2761</td>\n",
              "      <td>2.8148</td>\n",
              "      <td>2.7033</td>\n",
              "      <td>2.0727</td>\n",
              "      <td>2.3956</td>\n",
              "      <td>1.6540</td>\n",
              "      <td>1.6975</td>\n",
              "      <td>1.9123</td>\n",
              "      <td>1.7320</td>\n",
              "      <td>1.7050</td>\n",
              "      <td>1.6820</td>\n",
              "      <td>11.1487</td>\n",
              "      <td>62.9927</td>\n",
              "      <td>21.8152</td>\n",
              "      <td>9.2457</td>\n",
              "      <td>4.8555</td>\n",
              "      <td>3.0551</td>\n",
              "      <td>3.0415</td>\n",
              "      <td>4.0116</td>\n",
              "      <td>2.6217</td>\n",
              "      <td>3.1527</td>\n",
              "      <td>0</td>\n",
              "    </tr>\n",
              "  </tbody>\n",
              "</table>\n",
              "<p>756 rows × 755 columns</p>\n",
              "</div>"
            ],
            "text/plain": [
              "      id  gender  ...  tqwt_kurtosisValue_dec_36  class\n",
              "0      0       1  ...                    18.9405      1\n",
              "1      0       1  ...                    45.1780      1\n",
              "2      0       1  ...                     4.7666      1\n",
              "3      1       0  ...                     4.0603      1\n",
              "4      1       0  ...                     6.1164      1\n",
              "..   ...     ...  ...                        ...    ...\n",
              "751  250       0  ...                     6.8671      0\n",
              "752  250       0  ...                    28.4170      0\n",
              "753  251       0  ...                     5.0424      0\n",
              "754  251       0  ...                     3.7131      0\n",
              "755  251       0  ...                     3.1527      0\n",
              "\n",
              "[756 rows x 755 columns]"
            ]
          },
          "metadata": {},
          "execution_count": 14
        }
      ]
    },
    {
      "cell_type": "code",
      "metadata": {
        "colab": {
          "base_uri": "https://localhost:8080/"
        },
        "id": "uYbqY8M6l_ic",
        "outputId": "121d8f39-db6f-4bb1-981b-ed8a2dcf0229"
      },
      "source": [
        "df.shape"
      ],
      "execution_count": 16,
      "outputs": [
        {
          "output_type": "execute_result",
          "data": {
            "text/plain": [
              "(756, 755)"
            ]
          },
          "metadata": {},
          "execution_count": 16
        }
      ]
    },
    {
      "cell_type": "markdown",
      "metadata": {
        "id": "BRpUgBFNrLnT"
      },
      "source": [
        "#Finding nan values"
      ]
    },
    {
      "cell_type": "code",
      "metadata": {
        "colab": {
          "base_uri": "https://localhost:8080/"
        },
        "id": "i3BoZ6XRq5pO",
        "outputId": "f4c7cb93-0b95-4da3-d5c1-efff44e13b66"
      },
      "source": [
        "df.isnull().sum()"
      ],
      "execution_count": 17,
      "outputs": [
        {
          "output_type": "execute_result",
          "data": {
            "text/plain": [
              "id                           0\n",
              "gender                       0\n",
              "PPE                          0\n",
              "DFA                          0\n",
              "RPDE                         0\n",
              "                            ..\n",
              "tqwt_kurtosisValue_dec_33    0\n",
              "tqwt_kurtosisValue_dec_34    0\n",
              "tqwt_kurtosisValue_dec_35    0\n",
              "tqwt_kurtosisValue_dec_36    0\n",
              "class                        0\n",
              "Length: 755, dtype: int64"
            ]
          },
          "metadata": {},
          "execution_count": 17
        }
      ]
    },
    {
      "cell_type": "code",
      "metadata": {
        "id": "gsGfXRUQrN5h"
      },
      "source": [
        "import matplotlib.pyplot as plt\n",
        "import seaborn as sns"
      ],
      "execution_count": 18,
      "outputs": []
    },
    {
      "cell_type": "code",
      "metadata": {
        "colab": {
          "base_uri": "https://localhost:8080/",
          "height": 427
        },
        "id": "TRXA_BLfrgcR",
        "outputId": "6a4b88d3-883e-41b3-a297-a84650e81e4b"
      },
      "source": [
        "sns.heatmap(df.isnull(),yticklabels=False,cbar=False,cmap=\"RdYlGn_r\")"
      ],
      "execution_count": null,
      "outputs": [
        {
          "output_type": "execute_result",
          "data": {
            "text/plain": [
              "<matplotlib.axes._subplots.AxesSubplot at 0x7f51c2e5e910>"
            ]
          },
          "metadata": {},
          "execution_count": 5
        },
        {
          "output_type": "display_data",
          "data": {
            "image/png": "[encoded data removed]",
            "text/plain": [
              "<Figure size 432x288 with 1 Axes>"
            ]
          },
          "metadata": {
            "needs_background": "light"
          }
        }
      ]
    },
    {
      "cell_type": "markdown",
      "metadata": {
        "id": "HdxjPBtftrD3"
      },
      "source": [
        "#Cleaning the data"
      ]
    },
    {
      "cell_type": "code",
      "metadata": {
        "id": "VDg5JFtUrga-"
      },
      "source": [
        "df[\"class\"]=df[\"class\"].astype(bool)"
      ],
      "execution_count": 21,
      "outputs": []
    },
    {
      "cell_type": "code",
      "metadata": {
        "colab": {
          "base_uri": "https://localhost:8080/"
        },
        "id": "KPFaslhkrgTk",
        "outputId": "3927153a-722f-47ff-b881-37ec15ebe282"
      },
      "source": [
        "df[\"class\"].value_counts()"
      ],
      "execution_count": 20,
      "outputs": [
        {
          "output_type": "execute_result",
          "data": {
            "text/plain": [
              "True     564\n",
              "False    192\n",
              "Name: class, dtype: int64"
            ]
          },
          "metadata": {},
          "execution_count": 20
        }
      ]
    },
    {
      "cell_type": "markdown",
      "metadata": {
        "id": "Bocah_uLuD3W"
      },
      "source": [
        "##True  ---> who is suffering from parkinson's disease\n",
        "##False ---> who is healthy"
      ]
    },
    {
      "cell_type": "code",
      "metadata": {
        "colab": {
          "base_uri": "https://localhost:8080/",
          "height": 298
        },
        "id": "bYtoTLjhrgSC",
        "outputId": "809bb94a-df9d-4e41-ab47-ec479c44e4a2"
      },
      "source": [
        "df[\"class\"].value_counts().plot(kind=\"bar\")"
      ],
      "execution_count": 22,
      "outputs": [
        {
          "output_type": "execute_result",
          "data": {
            "text/plain": [
              "<matplotlib.axes._subplots.AxesSubplot at 0x7f0cb6b22c10>"
            ]
          },
          "metadata": {},
          "execution_count": 22
        },
        {
          "output_type": "display_data",
          "data": {
            "image/png": "[encoded data removed]",
            "text/plain": [
              "<Figure size 432x288 with 1 Axes>"
            ]
          },
          "metadata": {
            "needs_background": "light"
          }
        }
      ]
    },
    {
      "cell_type": "code",
      "metadata": {
        "colab": {
          "base_uri": "https://localhost:8080/"
        },
        "id": "cvq0Y_F4rgO3",
        "outputId": "1f0a793e-5a40-4521-ed75-030ba5fde54e"
      },
      "source": [
        "df.gender.value_counts()"
      ],
      "execution_count": 23,
      "outputs": [
        {
          "output_type": "execute_result",
          "data": {
            "text/plain": [
              "1    390\n",
              "0    366\n",
              "Name: gender, dtype: int64"
            ]
          },
          "metadata": {},
          "execution_count": 23
        }
      ]
    },
    {
      "cell_type": "markdown",
      "metadata": {
        "id": "0aRP0Nucb2EV"
      },
      "source": [
        "### 1 --> for male\n",
        "### 0 --> for female"
      ]
    },
    {
      "cell_type": "code",
      "metadata": {
        "colab": {
          "base_uri": "https://localhost:8080/"
        },
        "id": "XQOZ9cRocqQ4",
        "outputId": "b463daa2-2b77-4bcd-86f2-c2d28b9df93c"
      },
      "source": [
        "m=df[(df[\"gender\"]==1) & (df[\"class\"]==1)].value_counts().sum()\n",
        "\n",
        "print(\"from the male category who is suffering from parkinson's disease is : \",m)"
      ],
      "execution_count": 24,
      "outputs": [
        {
          "output_type": "stream",
          "name": "stdout",
          "text": [
            "from the male category who is suffering from parkinson's disease is :  321\n"
          ]
        }
      ]
    },
    {
      "cell_type": "code",
      "metadata": {
        "colab": {
          "base_uri": "https://localhost:8080/"
        },
        "id": "2NDV_ax8dPU7",
        "outputId": "383e8ca6-06f8-49b1-a23d-b2376212e8a7"
      },
      "source": [
        "f=df[(df[\"gender\"]==0) & (df[\"class\"]==1)].value_counts().sum()\n",
        "print(\"from the female category who is suffering from parkinson's disease is : \",f)"
      ],
      "execution_count": 25,
      "outputs": [
        {
          "output_type": "stream",
          "name": "stdout",
          "text": [
            "from the female category who is suffering from parkinson's disease is :  243\n"
          ]
        }
      ]
    },
    {
      "cell_type": "code",
      "metadata": {
        "colab": {
          "base_uri": "https://localhost:8080/"
        },
        "id": "NfEeE4ltd3c8",
        "outputId": "c92f8b53-f4c8-45ec-97ae-001737a4cc74"
      },
      "source": [
        "df.info()"
      ],
      "execution_count": 26,
      "outputs": [
        {
          "output_type": "stream",
          "name": "stdout",
          "text": [
            "<class 'pandas.core.frame.DataFrame'>\n",
            "RangeIndex: 756 entries, 0 to 755\n",
            "Columns: 755 entries, id to class\n",
            "dtypes: bool(1), float64(749), int64(5)\n",
            "memory usage: 4.3 MB\n"
          ]
        }
      ]
    },
    {
      "cell_type": "code",
      "metadata": {
        "colab": {
          "base_uri": "https://localhost:8080/",
          "height": 344
        },
        "id": "q6pN371ad62-",
        "outputId": "c4573bb2-3eb5-44df-ba07-f0d1f6aa1a06"
      },
      "source": [
        "df.describe()"
      ],
      "execution_count": 27,
      "outputs": [
        {
          "output_type": "execute_result",
          "data": {
            "text/html": [
              "<div>\n",
              "<style scoped>\n",
              "    .dataframe tbody tr th:only-of-type {\n",
              "        vertical-align: middle;\n",
              "    }\n",
              "\n",
              "    .dataframe tbody tr th {\n",
              "        vertical-align: top;\n",
              "    }\n",
              "\n",
              "    .dataframe thead th {\n",
              "        text-align: right;\n",
              "    }\n",
              "</style>\n",
              "<table border=\"1\" class=\"dataframe\">\n",
              "  <thead>\n",
              "    <tr style=\"text-align: right;\">\n",
              "      <th></th>\n",
              "      <th>id</th>\n",
              "      <th>gender</th>\n",
              "      <th>PPE</th>\n",
              "      <th>DFA</th>\n",
              "      <th>RPDE</th>\n",
              "      <th>numPulses</th>\n",
              "      <th>numPeriodsPulses</th>\n",
              "      <th>meanPeriodPulses</th>\n",
              "      <th>stdDevPeriodPulses</th>\n",
              "      <th>locPctJitter</th>\n",
              "      <th>locAbsJitter</th>\n",
              "      <th>rapJitter</th>\n",
              "      <th>ppq5Jitter</th>\n",
              "      <th>ddpJitter</th>\n",
              "      <th>locShimmer</th>\n",
              "      <th>locDbShimmer</th>\n",
              "      <th>apq3Shimmer</th>\n",
              "      <th>apq5Shimmer</th>\n",
              "      <th>apq11Shimmer</th>\n",
              "      <th>ddaShimmer</th>\n",
              "      <th>meanAutoCorrHarmonicity</th>\n",
              "      <th>meanNoiseToHarmHarmonicity</th>\n",
              "      <th>meanHarmToNoiseHarmonicity</th>\n",
              "      <th>minIntensity</th>\n",
              "      <th>maxIntensity</th>\n",
              "      <th>meanIntensity</th>\n",
              "      <th>f1</th>\n",
              "      <th>f2</th>\n",
              "      <th>f3</th>\n",
              "      <th>f4</th>\n",
              "      <th>b1</th>\n",
              "      <th>b2</th>\n",
              "      <th>b3</th>\n",
              "      <th>b4</th>\n",
              "      <th>GQ_prc5_95</th>\n",
              "      <th>GQ_std_cycle_open</th>\n",
              "      <th>GQ_std_cycle_closed</th>\n",
              "      <th>GNE_mean</th>\n",
              "      <th>GNE_std</th>\n",
              "      <th>GNE_SNR_TKEO</th>\n",
              "      <th>...</th>\n",
              "      <th>tqwt_skewnessValue_dec_33</th>\n",
              "      <th>tqwt_skewnessValue_dec_34</th>\n",
              "      <th>tqwt_skewnessValue_dec_35</th>\n",
              "      <th>tqwt_skewnessValue_dec_36</th>\n",
              "      <th>tqwt_kurtosisValue_dec_1</th>\n",
              "      <th>tqwt_kurtosisValue_dec_2</th>\n",
              "      <th>tqwt_kurtosisValue_dec_3</th>\n",
              "      <th>tqwt_kurtosisValue_dec_4</th>\n",
              "      <th>tqwt_kurtosisValue_dec_5</th>\n",
              "      <th>tqwt_kurtosisValue_dec_6</th>\n",
              "      <th>tqwt_kurtosisValue_dec_7</th>\n",
              "      <th>tqwt_kurtosisValue_dec_8</th>\n",
              "      <th>tqwt_kurtosisValue_dec_9</th>\n",
              "      <th>tqwt_kurtosisValue_dec_10</th>\n",
              "      <th>tqwt_kurtosisValue_dec_11</th>\n",
              "      <th>tqwt_kurtosisValue_dec_12</th>\n",
              "      <th>tqwt_kurtosisValue_dec_13</th>\n",
              "      <th>tqwt_kurtosisValue_dec_14</th>\n",
              "      <th>tqwt_kurtosisValue_dec_15</th>\n",
              "      <th>tqwt_kurtosisValue_dec_16</th>\n",
              "      <th>tqwt_kurtosisValue_dec_17</th>\n",
              "      <th>tqwt_kurtosisValue_dec_18</th>\n",
              "      <th>tqwt_kurtosisValue_dec_19</th>\n",
              "      <th>tqwt_kurtosisValue_dec_20</th>\n",
              "      <th>tqwt_kurtosisValue_dec_21</th>\n",
              "      <th>tqwt_kurtosisValue_dec_22</th>\n",
              "      <th>tqwt_kurtosisValue_dec_23</th>\n",
              "      <th>tqwt_kurtosisValue_dec_24</th>\n",
              "      <th>tqwt_kurtosisValue_dec_25</th>\n",
              "      <th>tqwt_kurtosisValue_dec_26</th>\n",
              "      <th>tqwt_kurtosisValue_dec_27</th>\n",
              "      <th>tqwt_kurtosisValue_dec_28</th>\n",
              "      <th>tqwt_kurtosisValue_dec_29</th>\n",
              "      <th>tqwt_kurtosisValue_dec_30</th>\n",
              "      <th>tqwt_kurtosisValue_dec_31</th>\n",
              "      <th>tqwt_kurtosisValue_dec_32</th>\n",
              "      <th>tqwt_kurtosisValue_dec_33</th>\n",
              "      <th>tqwt_kurtosisValue_dec_34</th>\n",
              "      <th>tqwt_kurtosisValue_dec_35</th>\n",
              "      <th>tqwt_kurtosisValue_dec_36</th>\n",
              "    </tr>\n",
              "  </thead>\n",
              "  <tbody>\n",
              "    <tr>\n",
              "      <th>count</th>\n",
              "      <td>756.000000</td>\n",
              "      <td>756.000000</td>\n",
              "      <td>756.000000</td>\n",
              "      <td>756.000000</td>\n",
              "      <td>756.000000</td>\n",
              "      <td>756.000000</td>\n",
              "      <td>756.000000</td>\n",
              "      <td>756.000000</td>\n",
              "      <td>756.000000</td>\n",
              "      <td>756.000000</td>\n",
              "      <td>7.560000e+02</td>\n",
              "      <td>756.000000</td>\n",
              "      <td>756.000000</td>\n",
              "      <td>756.000000</td>\n",
              "      <td>756.000000</td>\n",
              "      <td>756.00000</td>\n",
              "      <td>756.000000</td>\n",
              "      <td>756.000000</td>\n",
              "      <td>756.000000</td>\n",
              "      <td>756.000000</td>\n",
              "      <td>756.000000</td>\n",
              "      <td>756.000000</td>\n",
              "      <td>756.000000</td>\n",
              "      <td>756.000000</td>\n",
              "      <td>756.000000</td>\n",
              "      <td>756.000000</td>\n",
              "      <td>756.000000</td>\n",
              "      <td>756.000000</td>\n",
              "      <td>756.000000</td>\n",
              "      <td>756.000000</td>\n",
              "      <td>756.000000</td>\n",
              "      <td>756.000000</td>\n",
              "      <td>756.000000</td>\n",
              "      <td>756.000000</td>\n",
              "      <td>756.000000</td>\n",
              "      <td>756.000000</td>\n",
              "      <td>756.000000</td>\n",
              "      <td>756.000000</td>\n",
              "      <td>756.000000</td>\n",
              "      <td>756.000000</td>\n",
              "      <td>...</td>\n",
              "      <td>756.000000</td>\n",
              "      <td>756.000000</td>\n",
              "      <td>756.000000</td>\n",
              "      <td>756.000000</td>\n",
              "      <td>756.000000</td>\n",
              "      <td>756.000000</td>\n",
              "      <td>756.000000</td>\n",
              "      <td>756.000000</td>\n",
              "      <td>756.000000</td>\n",
              "      <td>756.000000</td>\n",
              "      <td>756.000000</td>\n",
              "      <td>756.000000</td>\n",
              "      <td>756.000000</td>\n",
              "      <td>756.000000</td>\n",
              "      <td>756.000000</td>\n",
              "      <td>756.000000</td>\n",
              "      <td>756.000000</td>\n",
              "      <td>756.000000</td>\n",
              "      <td>756.000000</td>\n",
              "      <td>756.000000</td>\n",
              "      <td>756.000000</td>\n",
              "      <td>756.000000</td>\n",
              "      <td>756.000000</td>\n",
              "      <td>756.000000</td>\n",
              "      <td>756.000000</td>\n",
              "      <td>756.000000</td>\n",
              "      <td>756.000000</td>\n",
              "      <td>756.000000</td>\n",
              "      <td>756.000000</td>\n",
              "      <td>756.000000</td>\n",
              "      <td>756.000000</td>\n",
              "      <td>756.000000</td>\n",
              "      <td>756.000000</td>\n",
              "      <td>756.000000</td>\n",
              "      <td>756.000000</td>\n",
              "      <td>756.000000</td>\n",
              "      <td>756.000000</td>\n",
              "      <td>756.000000</td>\n",
              "      <td>756.000000</td>\n",
              "      <td>756.000000</td>\n",
              "    </tr>\n",
              "    <tr>\n",
              "      <th>mean</th>\n",
              "      <td>125.500000</td>\n",
              "      <td>0.515873</td>\n",
              "      <td>0.746284</td>\n",
              "      <td>0.700414</td>\n",
              "      <td>0.489058</td>\n",
              "      <td>323.972222</td>\n",
              "      <td>322.678571</td>\n",
              "      <td>0.006360</td>\n",
              "      <td>0.000383</td>\n",
              "      <td>0.002324</td>\n",
              "      <td>1.673391e-05</td>\n",
              "      <td>0.000605</td>\n",
              "      <td>0.001159</td>\n",
              "      <td>0.001815</td>\n",
              "      <td>0.067473</td>\n",
              "      <td>0.60642</td>\n",
              "      <td>0.034375</td>\n",
              "      <td>0.041175</td>\n",
              "      <td>0.055366</td>\n",
              "      <td>0.103125</td>\n",
              "      <td>0.961508</td>\n",
              "      <td>0.051131</td>\n",
              "      <td>18.859632</td>\n",
              "      <td>70.828609</td>\n",
              "      <td>76.135371</td>\n",
              "      <td>73.997008</td>\n",
              "      <td>647.174519</td>\n",
              "      <td>1233.852088</td>\n",
              "      <td>2562.425251</td>\n",
              "      <td>3547.259244</td>\n",
              "      <td>213.363237</td>\n",
              "      <td>297.174077</td>\n",
              "      <td>536.821070</td>\n",
              "      <td>506.604856</td>\n",
              "      <td>0.904423</td>\n",
              "      <td>32.295832</td>\n",
              "      <td>4.454840</td>\n",
              "      <td>1.092503</td>\n",
              "      <td>0.215038</td>\n",
              "      <td>0.144832</td>\n",
              "      <td>...</td>\n",
              "      <td>-0.054733</td>\n",
              "      <td>-0.041840</td>\n",
              "      <td>-0.015615</td>\n",
              "      <td>-0.005242</td>\n",
              "      <td>1059.146612</td>\n",
              "      <td>377.357439</td>\n",
              "      <td>328.927860</td>\n",
              "      <td>317.994439</td>\n",
              "      <td>305.036007</td>\n",
              "      <td>172.362746</td>\n",
              "      <td>40.408662</td>\n",
              "      <td>15.064513</td>\n",
              "      <td>12.107316</td>\n",
              "      <td>11.757945</td>\n",
              "      <td>11.871530</td>\n",
              "      <td>9.529080</td>\n",
              "      <td>3.741615</td>\n",
              "      <td>3.332313</td>\n",
              "      <td>3.270290</td>\n",
              "      <td>2.995472</td>\n",
              "      <td>2.710678</td>\n",
              "      <td>2.608229</td>\n",
              "      <td>2.553457</td>\n",
              "      <td>2.432001</td>\n",
              "      <td>2.300006</td>\n",
              "      <td>2.183111</td>\n",
              "      <td>2.176542</td>\n",
              "      <td>2.595250</td>\n",
              "      <td>6.782668</td>\n",
              "      <td>15.766942</td>\n",
              "      <td>21.026054</td>\n",
              "      <td>26.237251</td>\n",
              "      <td>22.840337</td>\n",
              "      <td>18.587888</td>\n",
              "      <td>13.872018</td>\n",
              "      <td>12.218953</td>\n",
              "      <td>12.375335</td>\n",
              "      <td>14.799230</td>\n",
              "      <td>14.751559</td>\n",
              "      <td>31.481110</td>\n",
              "    </tr>\n",
              "    <tr>\n",
              "      <th>std</th>\n",
              "      <td>72.793721</td>\n",
              "      <td>0.500079</td>\n",
              "      <td>0.169294</td>\n",
              "      <td>0.069718</td>\n",
              "      <td>0.137442</td>\n",
              "      <td>99.219059</td>\n",
              "      <td>99.402499</td>\n",
              "      <td>0.001826</td>\n",
              "      <td>0.000728</td>\n",
              "      <td>0.002628</td>\n",
              "      <td>2.290134e-05</td>\n",
              "      <td>0.000981</td>\n",
              "      <td>0.001677</td>\n",
              "      <td>0.002942</td>\n",
              "      <td>0.042969</td>\n",
              "      <td>0.38257</td>\n",
              "      <td>0.022366</td>\n",
              "      <td>0.027165</td>\n",
              "      <td>0.033939</td>\n",
              "      <td>0.067097</td>\n",
              "      <td>0.064095</td>\n",
              "      <td>0.104579</td>\n",
              "      <td>5.576473</td>\n",
              "      <td>8.858268</td>\n",
              "      <td>6.446451</td>\n",
              "      <td>7.018006</td>\n",
              "      <td>134.957916</td>\n",
              "      <td>169.090402</td>\n",
              "      <td>393.315598</td>\n",
              "      <td>347.864299</td>\n",
              "      <td>306.976045</td>\n",
              "      <td>450.125488</td>\n",
              "      <td>754.341717</td>\n",
              "      <td>658.326606</td>\n",
              "      <td>0.147826</td>\n",
              "      <td>31.140746</td>\n",
              "      <td>7.313057</td>\n",
              "      <td>0.350789</td>\n",
              "      <td>0.132549</td>\n",
              "      <td>0.060065</td>\n",
              "      <td>...</td>\n",
              "      <td>1.267214</td>\n",
              "      <td>1.431979</td>\n",
              "      <td>1.451535</td>\n",
              "      <td>4.448635</td>\n",
              "      <td>3522.528562</td>\n",
              "      <td>1514.808488</td>\n",
              "      <td>1338.602187</td>\n",
              "      <td>1275.228777</td>\n",
              "      <td>1211.296576</td>\n",
              "      <td>821.740615</td>\n",
              "      <td>239.548628</td>\n",
              "      <td>75.865176</td>\n",
              "      <td>77.370230</td>\n",
              "      <td>74.594974</td>\n",
              "      <td>39.125733</td>\n",
              "      <td>36.349168</td>\n",
              "      <td>4.821202</td>\n",
              "      <td>2.962967</td>\n",
              "      <td>2.049877</td>\n",
              "      <td>1.444227</td>\n",
              "      <td>1.310653</td>\n",
              "      <td>1.229086</td>\n",
              "      <td>1.061068</td>\n",
              "      <td>0.892523</td>\n",
              "      <td>0.868506</td>\n",
              "      <td>0.796446</td>\n",
              "      <td>1.709860</td>\n",
              "      <td>5.979131</td>\n",
              "      <td>31.707014</td>\n",
              "      <td>45.247304</td>\n",
              "      <td>43.716898</td>\n",
              "      <td>42.220693</td>\n",
              "      <td>32.626464</td>\n",
              "      <td>25.537464</td>\n",
              "      <td>20.046029</td>\n",
              "      <td>17.783642</td>\n",
              "      <td>16.341665</td>\n",
              "      <td>15.722502</td>\n",
              "      <td>14.432979</td>\n",
              "      <td>34.230991</td>\n",
              "    </tr>\n",
              "    <tr>\n",
              "      <th>min</th>\n",
              "      <td>0.000000</td>\n",
              "      <td>0.000000</td>\n",
              "      <td>0.041551</td>\n",
              "      <td>0.543500</td>\n",
              "      <td>0.154300</td>\n",
              "      <td>2.000000</td>\n",
              "      <td>1.000000</td>\n",
              "      <td>0.002107</td>\n",
              "      <td>0.000011</td>\n",
              "      <td>0.000210</td>\n",
              "      <td>6.860000e-07</td>\n",
              "      <td>0.000020</td>\n",
              "      <td>0.000050</td>\n",
              "      <td>0.000050</td>\n",
              "      <td>0.006560</td>\n",
              "      <td>0.05700</td>\n",
              "      <td>0.003350</td>\n",
              "      <td>0.004150</td>\n",
              "      <td>0.000370</td>\n",
              "      <td>0.010040</td>\n",
              "      <td>0.589609</td>\n",
              "      <td>0.000618</td>\n",
              "      <td>1.655000</td>\n",
              "      <td>28.651529</td>\n",
              "      <td>44.133492</td>\n",
              "      <td>39.984109</td>\n",
              "      <td>237.149533</td>\n",
              "      <td>761.357661</td>\n",
              "      <td>1411.231297</td>\n",
              "      <td>2471.996546</td>\n",
              "      <td>13.525000</td>\n",
              "      <td>16.428803</td>\n",
              "      <td>21.164397</td>\n",
              "      <td>22.842528</td>\n",
              "      <td>0.210530</td>\n",
              "      <td>1.735500</td>\n",
              "      <td>0.000000</td>\n",
              "      <td>0.626550</td>\n",
              "      <td>0.023746</td>\n",
              "      <td>0.050828</td>\n",
              "      <td>...</td>\n",
              "      <td>-4.175300</td>\n",
              "      <td>-3.863900</td>\n",
              "      <td>-3.606400</td>\n",
              "      <td>-9.005700</td>\n",
              "      <td>2.507600</td>\n",
              "      <td>2.844200</td>\n",
              "      <td>2.959600</td>\n",
              "      <td>3.016100</td>\n",
              "      <td>3.152900</td>\n",
              "      <td>2.928800</td>\n",
              "      <td>2.616700</td>\n",
              "      <td>2.580100</td>\n",
              "      <td>2.236500</td>\n",
              "      <td>2.099900</td>\n",
              "      <td>2.132200</td>\n",
              "      <td>1.723900</td>\n",
              "      <td>1.667800</td>\n",
              "      <td>1.703400</td>\n",
              "      <td>1.759300</td>\n",
              "      <td>1.600600</td>\n",
              "      <td>1.572900</td>\n",
              "      <td>1.564400</td>\n",
              "      <td>1.532900</td>\n",
              "      <td>1.525600</td>\n",
              "      <td>1.522400</td>\n",
              "      <td>1.420700</td>\n",
              "      <td>1.522000</td>\n",
              "      <td>1.509800</td>\n",
              "      <td>1.499600</td>\n",
              "      <td>1.482400</td>\n",
              "      <td>1.342700</td>\n",
              "      <td>1.509800</td>\n",
              "      <td>1.531700</td>\n",
              "      <td>1.582900</td>\n",
              "      <td>1.747200</td>\n",
              "      <td>1.789500</td>\n",
              "      <td>1.628700</td>\n",
              "      <td>1.861700</td>\n",
              "      <td>1.955900</td>\n",
              "      <td>2.364000</td>\n",
              "    </tr>\n",
              "    <tr>\n",
              "      <th>25%</th>\n",
              "      <td>62.750000</td>\n",
              "      <td>0.000000</td>\n",
              "      <td>0.762833</td>\n",
              "      <td>0.647053</td>\n",
              "      <td>0.386537</td>\n",
              "      <td>251.000000</td>\n",
              "      <td>250.000000</td>\n",
              "      <td>0.005003</td>\n",
              "      <td>0.000049</td>\n",
              "      <td>0.000970</td>\n",
              "      <td>5.260000e-06</td>\n",
              "      <td>0.000150</td>\n",
              "      <td>0.000370</td>\n",
              "      <td>0.000450</td>\n",
              "      <td>0.036098</td>\n",
              "      <td>0.31875</td>\n",
              "      <td>0.017843</td>\n",
              "      <td>0.021935</td>\n",
              "      <td>0.030962</td>\n",
              "      <td>0.053538</td>\n",
              "      <td>0.963341</td>\n",
              "      <td>0.007168</td>\n",
              "      <td>15.713250</td>\n",
              "      <td>67.248014</td>\n",
              "      <td>73.322769</td>\n",
              "      <td>70.920615</td>\n",
              "      <td>562.879119</td>\n",
              "      <td>1117.316190</td>\n",
              "      <td>2380.426103</td>\n",
              "      <td>3288.644496</td>\n",
              "      <td>90.939702</td>\n",
              "      <td>102.856320</td>\n",
              "      <td>152.783110</td>\n",
              "      <td>170.741827</td>\n",
              "      <td>0.822580</td>\n",
              "      <td>9.764675</td>\n",
              "      <td>0.000000</td>\n",
              "      <td>0.887350</td>\n",
              "      <td>0.132692</td>\n",
              "      <td>0.119680</td>\n",
              "      <td>...</td>\n",
              "      <td>-0.226162</td>\n",
              "      <td>-0.405770</td>\n",
              "      <td>-0.465315</td>\n",
              "      <td>-0.916837</td>\n",
              "      <td>8.993000</td>\n",
              "      <td>7.452975</td>\n",
              "      <td>6.785700</td>\n",
              "      <td>6.600200</td>\n",
              "      <td>6.286025</td>\n",
              "      <td>5.603525</td>\n",
              "      <td>4.544075</td>\n",
              "      <td>4.294775</td>\n",
              "      <td>4.004375</td>\n",
              "      <td>3.782575</td>\n",
              "      <td>3.894050</td>\n",
              "      <td>3.030725</td>\n",
              "      <td>2.545750</td>\n",
              "      <td>2.527550</td>\n",
              "      <td>2.503975</td>\n",
              "      <td>2.289600</td>\n",
              "      <td>2.103900</td>\n",
              "      <td>2.033900</td>\n",
              "      <td>2.081850</td>\n",
              "      <td>1.926025</td>\n",
              "      <td>1.805375</td>\n",
              "      <td>1.724150</td>\n",
              "      <td>1.726750</td>\n",
              "      <td>1.662750</td>\n",
              "      <td>1.649950</td>\n",
              "      <td>1.672925</td>\n",
              "      <td>1.814850</td>\n",
              "      <td>2.408675</td>\n",
              "      <td>3.452800</td>\n",
              "      <td>3.354825</td>\n",
              "      <td>3.077450</td>\n",
              "      <td>2.937025</td>\n",
              "      <td>3.114375</td>\n",
              "      <td>3.665925</td>\n",
              "      <td>3.741275</td>\n",
              "      <td>3.948750</td>\n",
              "    </tr>\n",
              "    <tr>\n",
              "      <th>50%</th>\n",
              "      <td>125.500000</td>\n",
              "      <td>1.000000</td>\n",
              "      <td>0.809655</td>\n",
              "      <td>0.700525</td>\n",
              "      <td>0.484355</td>\n",
              "      <td>317.000000</td>\n",
              "      <td>316.000000</td>\n",
              "      <td>0.006048</td>\n",
              "      <td>0.000077</td>\n",
              "      <td>0.001495</td>\n",
              "      <td>9.530000e-06</td>\n",
              "      <td>0.000280</td>\n",
              "      <td>0.000650</td>\n",
              "      <td>0.000840</td>\n",
              "      <td>0.055730</td>\n",
              "      <td>0.50250</td>\n",
              "      <td>0.027980</td>\n",
              "      <td>0.033705</td>\n",
              "      <td>0.047545</td>\n",
              "      <td>0.083945</td>\n",
              "      <td>0.984339</td>\n",
              "      <td>0.016272</td>\n",
              "      <td>19.309500</td>\n",
              "      <td>74.121030</td>\n",
              "      <td>78.581351</td>\n",
              "      <td>76.855313</td>\n",
              "      <td>641.181498</td>\n",
              "      <td>1215.344125</td>\n",
              "      <td>2612.204198</td>\n",
              "      <td>3544.012403</td>\n",
              "      <td>141.610973</td>\n",
              "      <td>159.991186</td>\n",
              "      <td>265.964575</td>\n",
              "      <td>307.971279</td>\n",
              "      <td>1.000000</td>\n",
              "      <td>18.768600</td>\n",
              "      <td>0.354165</td>\n",
              "      <td>1.016200</td>\n",
              "      <td>0.184125</td>\n",
              "      <td>0.137810</td>\n",
              "      <td>...</td>\n",
              "      <td>-0.002297</td>\n",
              "      <td>-0.003125</td>\n",
              "      <td>-0.005517</td>\n",
              "      <td>0.048819</td>\n",
              "      <td>21.611450</td>\n",
              "      <td>11.398050</td>\n",
              "      <td>10.270550</td>\n",
              "      <td>9.530950</td>\n",
              "      <td>9.001950</td>\n",
              "      <td>7.674750</td>\n",
              "      <td>5.966600</td>\n",
              "      <td>5.368600</td>\n",
              "      <td>4.921650</td>\n",
              "      <td>4.592600</td>\n",
              "      <td>5.015800</td>\n",
              "      <td>3.828150</td>\n",
              "      <td>3.024100</td>\n",
              "      <td>2.953100</td>\n",
              "      <td>2.930500</td>\n",
              "      <td>2.668350</td>\n",
              "      <td>2.425250</td>\n",
              "      <td>2.369450</td>\n",
              "      <td>2.380050</td>\n",
              "      <td>2.290400</td>\n",
              "      <td>2.169700</td>\n",
              "      <td>2.002400</td>\n",
              "      <td>1.935850</td>\n",
              "      <td>1.834250</td>\n",
              "      <td>1.819900</td>\n",
              "      <td>1.907550</td>\n",
              "      <td>3.075050</td>\n",
              "      <td>5.586300</td>\n",
              "      <td>7.062750</td>\n",
              "      <td>6.077400</td>\n",
              "      <td>4.770850</td>\n",
              "      <td>4.300450</td>\n",
              "      <td>4.741450</td>\n",
              "      <td>6.725700</td>\n",
              "      <td>7.334250</td>\n",
              "      <td>10.637250</td>\n",
              "    </tr>\n",
              "    <tr>\n",
              "      <th>75%</th>\n",
              "      <td>188.250000</td>\n",
              "      <td>1.000000</td>\n",
              "      <td>0.834315</td>\n",
              "      <td>0.754985</td>\n",
              "      <td>0.586515</td>\n",
              "      <td>384.250000</td>\n",
              "      <td>383.250000</td>\n",
              "      <td>0.007528</td>\n",
              "      <td>0.000171</td>\n",
              "      <td>0.002520</td>\n",
              "      <td>1.832500e-05</td>\n",
              "      <td>0.000650</td>\n",
              "      <td>0.001252</td>\n",
              "      <td>0.001952</td>\n",
              "      <td>0.085547</td>\n",
              "      <td>0.79650</td>\n",
              "      <td>0.044665</td>\n",
              "      <td>0.053023</td>\n",
              "      <td>0.071385</td>\n",
              "      <td>0.134000</td>\n",
              "      <td>0.992916</td>\n",
              "      <td>0.040061</td>\n",
              "      <td>22.877750</td>\n",
              "      <td>76.850515</td>\n",
              "      <td>80.402498</td>\n",
              "      <td>78.718785</td>\n",
              "      <td>737.222678</td>\n",
              "      <td>1339.826741</td>\n",
              "      <td>2831.959198</td>\n",
              "      <td>3807.332055</td>\n",
              "      <td>234.098376</td>\n",
              "      <td>299.912765</td>\n",
              "      <td>518.822036</td>\n",
              "      <td>557.628796</td>\n",
              "      <td>1.000000</td>\n",
              "      <td>45.821475</td>\n",
              "      <td>5.374000</td>\n",
              "      <td>1.201575</td>\n",
              "      <td>0.264715</td>\n",
              "      <td>0.157510</td>\n",
              "      <td>...</td>\n",
              "      <td>0.163378</td>\n",
              "      <td>0.368445</td>\n",
              "      <td>0.421938</td>\n",
              "      <td>1.033050</td>\n",
              "      <td>251.897450</td>\n",
              "      <td>28.205700</td>\n",
              "      <td>18.817550</td>\n",
              "      <td>17.858350</td>\n",
              "      <td>17.691350</td>\n",
              "      <td>13.642275</td>\n",
              "      <td>9.275500</td>\n",
              "      <td>7.419100</td>\n",
              "      <td>6.546525</td>\n",
              "      <td>6.139300</td>\n",
              "      <td>7.230500</td>\n",
              "      <td>5.760800</td>\n",
              "      <td>3.685825</td>\n",
              "      <td>3.526800</td>\n",
              "      <td>3.536650</td>\n",
              "      <td>3.330025</td>\n",
              "      <td>2.953400</td>\n",
              "      <td>2.823100</td>\n",
              "      <td>2.759900</td>\n",
              "      <td>2.688075</td>\n",
              "      <td>2.524625</td>\n",
              "      <td>2.410075</td>\n",
              "      <td>2.350300</td>\n",
              "      <td>2.214575</td>\n",
              "      <td>2.221500</td>\n",
              "      <td>3.057025</td>\n",
              "      <td>12.129975</td>\n",
              "      <td>28.958075</td>\n",
              "      <td>29.830850</td>\n",
              "      <td>21.944050</td>\n",
              "      <td>13.188000</td>\n",
              "      <td>10.876150</td>\n",
              "      <td>12.201325</td>\n",
              "      <td>21.922050</td>\n",
              "      <td>22.495175</td>\n",
              "      <td>61.125325</td>\n",
              "    </tr>\n",
              "    <tr>\n",
              "      <th>max</th>\n",
              "      <td>251.000000</td>\n",
              "      <td>1.000000</td>\n",
              "      <td>0.907660</td>\n",
              "      <td>0.852640</td>\n",
              "      <td>0.871230</td>\n",
              "      <td>907.000000</td>\n",
              "      <td>905.000000</td>\n",
              "      <td>0.012966</td>\n",
              "      <td>0.003483</td>\n",
              "      <td>0.027750</td>\n",
              "      <td>2.564800e-04</td>\n",
              "      <td>0.011050</td>\n",
              "      <td>0.018320</td>\n",
              "      <td>0.033150</td>\n",
              "      <td>0.251010</td>\n",
              "      <td>2.11400</td>\n",
              "      <td>0.130510</td>\n",
              "      <td>0.199510</td>\n",
              "      <td>0.277500</td>\n",
              "      <td>0.391540</td>\n",
              "      <td>0.999382</td>\n",
              "      <td>0.761696</td>\n",
              "      <td>33.197000</td>\n",
              "      <td>83.908349</td>\n",
              "      <td>86.316176</td>\n",
              "      <td>85.096353</td>\n",
              "      <td>1015.524047</td>\n",
              "      <td>1922.747225</td>\n",
              "      <td>3475.648017</td>\n",
              "      <td>4482.258531</td>\n",
              "      <td>4744.875736</td>\n",
              "      <td>4262.170070</td>\n",
              "      <td>6116.039922</td>\n",
              "      <td>5804.342078</td>\n",
              "      <td>1.000000</td>\n",
              "      <td>194.360800</td>\n",
              "      <td>37.560200</td>\n",
              "      <td>4.957600</td>\n",
              "      <td>1.654100</td>\n",
              "      <td>1.067200</td>\n",
              "      <td>...</td>\n",
              "      <td>4.220000</td>\n",
              "      <td>4.048300</td>\n",
              "      <td>3.537200</td>\n",
              "      <td>10.973400</td>\n",
              "      <td>29579.921900</td>\n",
              "      <td>11610.638600</td>\n",
              "      <td>9998.036100</td>\n",
              "      <td>9385.513100</td>\n",
              "      <td>8866.289700</td>\n",
              "      <td>6810.290300</td>\n",
              "      <td>3297.514200</td>\n",
              "      <td>1611.375100</td>\n",
              "      <td>1705.947100</td>\n",
              "      <td>1614.359600</td>\n",
              "      <td>684.873000</td>\n",
              "      <td>511.721100</td>\n",
              "      <td>90.478100</td>\n",
              "      <td>74.435800</td>\n",
              "      <td>40.978400</td>\n",
              "      <td>26.918400</td>\n",
              "      <td>26.574100</td>\n",
              "      <td>25.415600</td>\n",
              "      <td>20.013100</td>\n",
              "      <td>17.105100</td>\n",
              "      <td>14.050700</td>\n",
              "      <td>12.225600</td>\n",
              "      <td>42.538200</td>\n",
              "      <td>118.329600</td>\n",
              "      <td>359.560600</td>\n",
              "      <td>395.347700</td>\n",
              "      <td>355.516100</td>\n",
              "      <td>239.788800</td>\n",
              "      <td>203.311300</td>\n",
              "      <td>121.542900</td>\n",
              "      <td>102.207000</td>\n",
              "      <td>85.571700</td>\n",
              "      <td>73.532200</td>\n",
              "      <td>62.007300</td>\n",
              "      <td>57.544300</td>\n",
              "      <td>156.423700</td>\n",
              "    </tr>\n",
              "  </tbody>\n",
              "</table>\n",
              "<p>8 rows × 754 columns</p>\n",
              "</div>"
            ],
            "text/plain": [
              "               id  ...  tqwt_kurtosisValue_dec_36\n",
              "count  756.000000  ...                 756.000000\n",
              "mean   125.500000  ...                  31.481110\n",
              "std     72.793721  ...                  34.230991\n",
              "min      0.000000  ...                   2.364000\n",
              "25%     62.750000  ...                   3.948750\n",
              "50%    125.500000  ...                  10.637250\n",
              "75%    188.250000  ...                  61.125325\n",
              "max    251.000000  ...                 156.423700\n",
              "\n",
              "[8 rows x 754 columns]"
            ]
          },
          "metadata": {},
          "execution_count": 27
        }
      ]
    },
    {
      "cell_type": "code",
      "metadata": {
        "colab": {
          "base_uri": "https://localhost:8080/",
          "height": 190
        },
        "id": "Ih-DDpDReCn_",
        "outputId": "b5761e9b-f3d5-407f-f05c-03cdcc8c8c37"
      },
      "source": [
        "df.groupby(\"class\").mean()"
      ],
      "execution_count": 28,
      "outputs": [
        {
          "output_type": "execute_result",
          "data": {
            "text/html": [
              "<div>\n",
              "<style scoped>\n",
              "    .dataframe tbody tr th:only-of-type {\n",
              "        vertical-align: middle;\n",
              "    }\n",
              "\n",
              "    .dataframe tbody tr th {\n",
              "        vertical-align: top;\n",
              "    }\n",
              "\n",
              "    .dataframe thead th {\n",
              "        text-align: right;\n",
              "    }\n",
              "</style>\n",
              "<table border=\"1\" class=\"dataframe\">\n",
              "  <thead>\n",
              "    <tr style=\"text-align: right;\">\n",
              "      <th></th>\n",
              "      <th>id</th>\n",
              "      <th>gender</th>\n",
              "      <th>PPE</th>\n",
              "      <th>DFA</th>\n",
              "      <th>RPDE</th>\n",
              "      <th>numPulses</th>\n",
              "      <th>numPeriodsPulses</th>\n",
              "      <th>meanPeriodPulses</th>\n",
              "      <th>stdDevPeriodPulses</th>\n",
              "      <th>locPctJitter</th>\n",
              "      <th>locAbsJitter</th>\n",
              "      <th>rapJitter</th>\n",
              "      <th>ppq5Jitter</th>\n",
              "      <th>ddpJitter</th>\n",
              "      <th>locShimmer</th>\n",
              "      <th>locDbShimmer</th>\n",
              "      <th>apq3Shimmer</th>\n",
              "      <th>apq5Shimmer</th>\n",
              "      <th>apq11Shimmer</th>\n",
              "      <th>ddaShimmer</th>\n",
              "      <th>meanAutoCorrHarmonicity</th>\n",
              "      <th>meanNoiseToHarmHarmonicity</th>\n",
              "      <th>meanHarmToNoiseHarmonicity</th>\n",
              "      <th>minIntensity</th>\n",
              "      <th>maxIntensity</th>\n",
              "      <th>meanIntensity</th>\n",
              "      <th>f1</th>\n",
              "      <th>f2</th>\n",
              "      <th>f3</th>\n",
              "      <th>f4</th>\n",
              "      <th>b1</th>\n",
              "      <th>b2</th>\n",
              "      <th>b3</th>\n",
              "      <th>b4</th>\n",
              "      <th>GQ_prc5_95</th>\n",
              "      <th>GQ_std_cycle_open</th>\n",
              "      <th>GQ_std_cycle_closed</th>\n",
              "      <th>GNE_mean</th>\n",
              "      <th>GNE_std</th>\n",
              "      <th>GNE_SNR_TKEO</th>\n",
              "      <th>...</th>\n",
              "      <th>tqwt_skewnessValue_dec_33</th>\n",
              "      <th>tqwt_skewnessValue_dec_34</th>\n",
              "      <th>tqwt_skewnessValue_dec_35</th>\n",
              "      <th>tqwt_skewnessValue_dec_36</th>\n",
              "      <th>tqwt_kurtosisValue_dec_1</th>\n",
              "      <th>tqwt_kurtosisValue_dec_2</th>\n",
              "      <th>tqwt_kurtosisValue_dec_3</th>\n",
              "      <th>tqwt_kurtosisValue_dec_4</th>\n",
              "      <th>tqwt_kurtosisValue_dec_5</th>\n",
              "      <th>tqwt_kurtosisValue_dec_6</th>\n",
              "      <th>tqwt_kurtosisValue_dec_7</th>\n",
              "      <th>tqwt_kurtosisValue_dec_8</th>\n",
              "      <th>tqwt_kurtosisValue_dec_9</th>\n",
              "      <th>tqwt_kurtosisValue_dec_10</th>\n",
              "      <th>tqwt_kurtosisValue_dec_11</th>\n",
              "      <th>tqwt_kurtosisValue_dec_12</th>\n",
              "      <th>tqwt_kurtosisValue_dec_13</th>\n",
              "      <th>tqwt_kurtosisValue_dec_14</th>\n",
              "      <th>tqwt_kurtosisValue_dec_15</th>\n",
              "      <th>tqwt_kurtosisValue_dec_16</th>\n",
              "      <th>tqwt_kurtosisValue_dec_17</th>\n",
              "      <th>tqwt_kurtosisValue_dec_18</th>\n",
              "      <th>tqwt_kurtosisValue_dec_19</th>\n",
              "      <th>tqwt_kurtosisValue_dec_20</th>\n",
              "      <th>tqwt_kurtosisValue_dec_21</th>\n",
              "      <th>tqwt_kurtosisValue_dec_22</th>\n",
              "      <th>tqwt_kurtosisValue_dec_23</th>\n",
              "      <th>tqwt_kurtosisValue_dec_24</th>\n",
              "      <th>tqwt_kurtosisValue_dec_25</th>\n",
              "      <th>tqwt_kurtosisValue_dec_26</th>\n",
              "      <th>tqwt_kurtosisValue_dec_27</th>\n",
              "      <th>tqwt_kurtosisValue_dec_28</th>\n",
              "      <th>tqwt_kurtosisValue_dec_29</th>\n",
              "      <th>tqwt_kurtosisValue_dec_30</th>\n",
              "      <th>tqwt_kurtosisValue_dec_31</th>\n",
              "      <th>tqwt_kurtosisValue_dec_32</th>\n",
              "      <th>tqwt_kurtosisValue_dec_33</th>\n",
              "      <th>tqwt_kurtosisValue_dec_34</th>\n",
              "      <th>tqwt_kurtosisValue_dec_35</th>\n",
              "      <th>tqwt_kurtosisValue_dec_36</th>\n",
              "    </tr>\n",
              "    <tr>\n",
              "      <th>class</th>\n",
              "      <th></th>\n",
              "      <th></th>\n",
              "      <th></th>\n",
              "      <th></th>\n",
              "      <th></th>\n",
              "      <th></th>\n",
              "      <th></th>\n",
              "      <th></th>\n",
              "      <th></th>\n",
              "      <th></th>\n",
              "      <th></th>\n",
              "      <th></th>\n",
              "      <th></th>\n",
              "      <th></th>\n",
              "      <th></th>\n",
              "      <th></th>\n",
              "      <th></th>\n",
              "      <th></th>\n",
              "      <th></th>\n",
              "      <th></th>\n",
              "      <th></th>\n",
              "      <th></th>\n",
              "      <th></th>\n",
              "      <th></th>\n",
              "      <th></th>\n",
              "      <th></th>\n",
              "      <th></th>\n",
              "      <th></th>\n",
              "      <th></th>\n",
              "      <th></th>\n",
              "      <th></th>\n",
              "      <th></th>\n",
              "      <th></th>\n",
              "      <th></th>\n",
              "      <th></th>\n",
              "      <th></th>\n",
              "      <th></th>\n",
              "      <th></th>\n",
              "      <th></th>\n",
              "      <th></th>\n",
              "      <th></th>\n",
              "      <th></th>\n",
              "      <th></th>\n",
              "      <th></th>\n",
              "      <th></th>\n",
              "      <th></th>\n",
              "      <th></th>\n",
              "      <th></th>\n",
              "      <th></th>\n",
              "      <th></th>\n",
              "      <th></th>\n",
              "      <th></th>\n",
              "      <th></th>\n",
              "      <th></th>\n",
              "      <th></th>\n",
              "      <th></th>\n",
              "      <th></th>\n",
              "      <th></th>\n",
              "      <th></th>\n",
              "      <th></th>\n",
              "      <th></th>\n",
              "      <th></th>\n",
              "      <th></th>\n",
              "      <th></th>\n",
              "      <th></th>\n",
              "      <th></th>\n",
              "      <th></th>\n",
              "      <th></th>\n",
              "      <th></th>\n",
              "      <th></th>\n",
              "      <th></th>\n",
              "      <th></th>\n",
              "      <th></th>\n",
              "      <th></th>\n",
              "      <th></th>\n",
              "      <th></th>\n",
              "      <th></th>\n",
              "      <th></th>\n",
              "      <th></th>\n",
              "      <th></th>\n",
              "      <th></th>\n",
              "    </tr>\n",
              "  </thead>\n",
              "  <tbody>\n",
              "    <tr>\n",
              "      <th>False</th>\n",
              "      <td>139.421875</td>\n",
              "      <td>0.359375</td>\n",
              "      <td>0.767434</td>\n",
              "      <td>0.663866</td>\n",
              "      <td>0.430807</td>\n",
              "      <td>372.244792</td>\n",
              "      <td>371.031250</td>\n",
              "      <td>0.005699</td>\n",
              "      <td>0.000290</td>\n",
              "      <td>0.001405</td>\n",
              "      <td>0.000009</td>\n",
              "      <td>0.000314</td>\n",
              "      <td>0.000615</td>\n",
              "      <td>0.000942</td>\n",
              "      <td>0.055573</td>\n",
              "      <td>0.490938</td>\n",
              "      <td>0.029462</td>\n",
              "      <td>0.034238</td>\n",
              "      <td>0.042146</td>\n",
              "      <td>0.088386</td>\n",
              "      <td>0.973830</td>\n",
              "      <td>0.033170</td>\n",
              "      <td>20.874354</td>\n",
              "      <td>75.004255</td>\n",
              "      <td>78.701976</td>\n",
              "      <td>77.072415</td>\n",
              "      <td>716.143478</td>\n",
              "      <td>1304.275157</td>\n",
              "      <td>2529.402526</td>\n",
              "      <td>3538.730253</td>\n",
              "      <td>199.442561</td>\n",
              "      <td>313.287441</td>\n",
              "      <td>639.308447</td>\n",
              "      <td>577.193220</td>\n",
              "      <td>0.934827</td>\n",
              "      <td>23.947211</td>\n",
              "      <td>2.950426</td>\n",
              "      <td>1.196693</td>\n",
              "      <td>0.208056</td>\n",
              "      <td>0.156717</td>\n",
              "      <td>...</td>\n",
              "      <td>-0.152584</td>\n",
              "      <td>-0.080137</td>\n",
              "      <td>-0.082539</td>\n",
              "      <td>-0.112316</td>\n",
              "      <td>828.938718</td>\n",
              "      <td>198.524514</td>\n",
              "      <td>142.676379</td>\n",
              "      <td>123.488763</td>\n",
              "      <td>84.602292</td>\n",
              "      <td>44.802764</td>\n",
              "      <td>12.963558</td>\n",
              "      <td>7.390001</td>\n",
              "      <td>6.648563</td>\n",
              "      <td>7.858938</td>\n",
              "      <td>8.822049</td>\n",
              "      <td>5.447146</td>\n",
              "      <td>3.091249</td>\n",
              "      <td>2.988729</td>\n",
              "      <td>2.835976</td>\n",
              "      <td>2.546435</td>\n",
              "      <td>2.273758</td>\n",
              "      <td>2.169000</td>\n",
              "      <td>2.241918</td>\n",
              "      <td>2.086915</td>\n",
              "      <td>2.105440</td>\n",
              "      <td>2.016404</td>\n",
              "      <td>2.153136</td>\n",
              "      <td>3.335094</td>\n",
              "      <td>16.862654</td>\n",
              "      <td>41.762340</td>\n",
              "      <td>47.053772</td>\n",
              "      <td>45.754404</td>\n",
              "      <td>32.006881</td>\n",
              "      <td>21.592319</td>\n",
              "      <td>14.797452</td>\n",
              "      <td>10.726868</td>\n",
              "      <td>9.021939</td>\n",
              "      <td>9.619535</td>\n",
              "      <td>9.326543</td>\n",
              "      <td>15.074830</td>\n",
              "    </tr>\n",
              "    <tr>\n",
              "      <th>True</th>\n",
              "      <td>120.760638</td>\n",
              "      <td>0.569149</td>\n",
              "      <td>0.739084</td>\n",
              "      <td>0.712856</td>\n",
              "      <td>0.508888</td>\n",
              "      <td>307.539007</td>\n",
              "      <td>306.218085</td>\n",
              "      <td>0.006585</td>\n",
              "      <td>0.000414</td>\n",
              "      <td>0.002637</td>\n",
              "      <td>0.000019</td>\n",
              "      <td>0.000704</td>\n",
              "      <td>0.001344</td>\n",
              "      <td>0.002112</td>\n",
              "      <td>0.071524</td>\n",
              "      <td>0.645733</td>\n",
              "      <td>0.036048</td>\n",
              "      <td>0.043536</td>\n",
              "      <td>0.059867</td>\n",
              "      <td>0.108143</td>\n",
              "      <td>0.957314</td>\n",
              "      <td>0.057246</td>\n",
              "      <td>18.173770</td>\n",
              "      <td>69.407113</td>\n",
              "      <td>75.261633</td>\n",
              "      <td>72.950061</td>\n",
              "      <td>623.695724</td>\n",
              "      <td>1209.878277</td>\n",
              "      <td>2573.667030</td>\n",
              "      <td>3550.162730</td>\n",
              "      <td>218.102190</td>\n",
              "      <td>291.688677</td>\n",
              "      <td>501.931750</td>\n",
              "      <td>482.574774</td>\n",
              "      <td>0.894072</td>\n",
              "      <td>35.137916</td>\n",
              "      <td>4.966981</td>\n",
              "      <td>1.057034</td>\n",
              "      <td>0.217415</td>\n",
              "      <td>0.140786</td>\n",
              "      <td>...</td>\n",
              "      <td>-0.021422</td>\n",
              "      <td>-0.028802</td>\n",
              "      <td>0.007167</td>\n",
              "      <td>0.031209</td>\n",
              "      <td>1137.515256</td>\n",
              "      <td>438.236732</td>\n",
              "      <td>392.332620</td>\n",
              "      <td>384.209137</td>\n",
              "      <td>380.077272</td>\n",
              "      <td>215.787421</td>\n",
              "      <td>49.751676</td>\n",
              "      <td>17.677113</td>\n",
              "      <td>13.965615</td>\n",
              "      <td>13.085266</td>\n",
              "      <td>12.909652</td>\n",
              "      <td>10.918674</td>\n",
              "      <td>3.963016</td>\n",
              "      <td>3.449278</td>\n",
              "      <td>3.418141</td>\n",
              "      <td>3.148336</td>\n",
              "      <td>2.859417</td>\n",
              "      <td>2.757754</td>\n",
              "      <td>2.659513</td>\n",
              "      <td>2.549478</td>\n",
              "      <td>2.366241</td>\n",
              "      <td>2.239862</td>\n",
              "      <td>2.184510</td>\n",
              "      <td>2.343388</td>\n",
              "      <td>3.351184</td>\n",
              "      <td>6.917445</td>\n",
              "      <td>12.165554</td>\n",
              "      <td>19.593113</td>\n",
              "      <td>19.719812</td>\n",
              "      <td>17.565102</td>\n",
              "      <td>13.556976</td>\n",
              "      <td>12.726897</td>\n",
              "      <td>13.516916</td>\n",
              "      <td>16.562531</td>\n",
              "      <td>16.598373</td>\n",
              "      <td>37.066227</td>\n",
              "    </tr>\n",
              "  </tbody>\n",
              "</table>\n",
              "<p>2 rows × 754 columns</p>\n",
              "</div>"
            ],
            "text/plain": [
              "               id  ...  tqwt_kurtosisValue_dec_36\n",
              "class              ...                           \n",
              "False  139.421875  ...                  15.074830\n",
              "True   120.760638  ...                  37.066227\n",
              "\n",
              "[2 rows x 754 columns]"
            ]
          },
          "metadata": {},
          "execution_count": 28
        }
      ]
    },
    {
      "cell_type": "markdown",
      "metadata": {
        "id": "oVk-qvakeQmY"
      },
      "source": [
        "# Finding relations"
      ]
    },
    {
      "cell_type": "code",
      "metadata": {
        "colab": {
          "base_uri": "https://localhost:8080/",
          "height": 1000
        },
        "id": "8rd-2ciDeujG",
        "outputId": "42775d06-866d-4445-a17c-88d7abfa2191"
      },
      "source": [
        "sns.catplot(x=\"class\",y=\"PPE\",data=df)\n",
        "\n",
        "\n",
        "sns.catplot(x=\"class\",y=\"DFA\",data=df)\n",
        "\n",
        "\n",
        "sns.catplot(x=\"class\",y=\"RPDE\",data=df)"
      ],
      "execution_count": 29,
      "outputs": [
        {
          "output_type": "execute_result",
          "data": {
            "text/plain": [
              "<seaborn.axisgrid.FacetGrid at 0x7f0cb68cc210>"
            ]
          },
          "metadata": {},
          "execution_count": 29
        },
        {
          "output_type": "display_data",
          "data": {
            "image/png": "[encoded data removed]",
            "text/plain": [
              "<Figure size 360x360 with 1 Axes>"
            ]
          },
          "metadata": {
            "needs_background": "light"
          }
        },
        {
          "output_type": "display_data",
          "data": {
            "image/png": "[encoded data removed]",
            "text/plain": [
              "<Figure size 360x360 with 1 Axes>"
            ]
          },
          "metadata": {
            "needs_background": "light"
          }
        },
        {
          "output_type": "display_data",
          "data": {
            "image/png": "[encoded data removed]",
            "text/plain": [
              "<Figure size 360x360 with 1 Axes>"
            ]
          },
          "metadata": {
            "needs_background": "light"
          }
        }
      ]
    },
    {
      "cell_type": "markdown",
      "metadata": {
        "id": "RQRHaz-vhAtn"
      },
      "source": [
        "Machine Learning model selection(heighest accuracy)"
      ]
    },
    {
      "cell_type": "markdown",
      "metadata": {
        "id": "rhyYyOaahFU4"
      },
      "source": [
        "## k-nearest neighbors\n",
        "### .KNN"
      ]
    },
    {
      "cell_type": "code",
      "metadata": {
        "id": "nAviDpd9hcFL"
      },
      "source": [
        "from sklearn.preprocessing import StandardScaler"
      ],
      "execution_count": 30,
      "outputs": []
    },
    {
      "cell_type": "code",
      "metadata": {
        "id": "5lk9IRvohhZ2"
      },
      "source": [
        "from sklearn.model_selection import train_test_split\n",
        "X=df.drop(\"class\",axis=1)"
      ],
      "execution_count": 31,
      "outputs": []
    },
    {
      "cell_type": "code",
      "metadata": {
        "colab": {
          "base_uri": "https://localhost:8080/"
        },
        "id": "ahNmD7P-hk-u",
        "outputId": "6698fded-3f01-474b-9503-08f07889c317"
      },
      "source": [
        "scaler=StandardScaler()\n",
        "scaler.fit(df.drop(\"class\",axis=1))"
      ],
      "execution_count": 32,
      "outputs": [
        {
          "output_type": "execute_result",
          "data": {
            "text/plain": [
              "StandardScaler(copy=True, with_mean=True, with_std=True)"
            ]
          },
          "metadata": {},
          "execution_count": 32
        }
      ]
    },
    {
      "cell_type": "code",
      "metadata": {
        "colab": {
          "base_uri": "https://localhost:8080/",
          "height": 252
        },
        "id": "Q4dp9JeThqAb",
        "outputId": "70cfe940-4974-44c5-e822-393b17bab274"
      },
      "source": [
        "scaler_feature = scaler.transform(df.drop(\"class\",axis=1))\n",
        "df_feature = pd.DataFrame(scaler_feature,columns=X.columns)\n",
        "df_feature.head()"
      ],
      "execution_count": 33,
      "outputs": [
        {
          "output_type": "execute_result",
          "data": {
            "text/html": [
              "<div>\n",
              "<style scoped>\n",
              "    .dataframe tbody tr th:only-of-type {\n",
              "        vertical-align: middle;\n",
              "    }\n",
              "\n",
              "    .dataframe tbody tr th {\n",
              "        vertical-align: top;\n",
              "    }\n",
              "\n",
              "    .dataframe thead th {\n",
              "        text-align: right;\n",
              "    }\n",
              "</style>\n",
              "<table border=\"1\" class=\"dataframe\">\n",
              "  <thead>\n",
              "    <tr style=\"text-align: right;\">\n",
              "      <th></th>\n",
              "      <th>id</th>\n",
              "      <th>gender</th>\n",
              "      <th>PPE</th>\n",
              "      <th>DFA</th>\n",
              "      <th>RPDE</th>\n",
              "      <th>numPulses</th>\n",
              "      <th>numPeriodsPulses</th>\n",
              "      <th>meanPeriodPulses</th>\n",
              "      <th>stdDevPeriodPulses</th>\n",
              "      <th>locPctJitter</th>\n",
              "      <th>locAbsJitter</th>\n",
              "      <th>rapJitter</th>\n",
              "      <th>ppq5Jitter</th>\n",
              "      <th>ddpJitter</th>\n",
              "      <th>locShimmer</th>\n",
              "      <th>locDbShimmer</th>\n",
              "      <th>apq3Shimmer</th>\n",
              "      <th>apq5Shimmer</th>\n",
              "      <th>apq11Shimmer</th>\n",
              "      <th>ddaShimmer</th>\n",
              "      <th>meanAutoCorrHarmonicity</th>\n",
              "      <th>meanNoiseToHarmHarmonicity</th>\n",
              "      <th>meanHarmToNoiseHarmonicity</th>\n",
              "      <th>minIntensity</th>\n",
              "      <th>maxIntensity</th>\n",
              "      <th>meanIntensity</th>\n",
              "      <th>f1</th>\n",
              "      <th>f2</th>\n",
              "      <th>f3</th>\n",
              "      <th>f4</th>\n",
              "      <th>b1</th>\n",
              "      <th>b2</th>\n",
              "      <th>b3</th>\n",
              "      <th>b4</th>\n",
              "      <th>GQ_prc5_95</th>\n",
              "      <th>GQ_std_cycle_open</th>\n",
              "      <th>GQ_std_cycle_closed</th>\n",
              "      <th>GNE_mean</th>\n",
              "      <th>GNE_std</th>\n",
              "      <th>GNE_SNR_TKEO</th>\n",
              "      <th>...</th>\n",
              "      <th>tqwt_skewnessValue_dec_33</th>\n",
              "      <th>tqwt_skewnessValue_dec_34</th>\n",
              "      <th>tqwt_skewnessValue_dec_35</th>\n",
              "      <th>tqwt_skewnessValue_dec_36</th>\n",
              "      <th>tqwt_kurtosisValue_dec_1</th>\n",
              "      <th>tqwt_kurtosisValue_dec_2</th>\n",
              "      <th>tqwt_kurtosisValue_dec_3</th>\n",
              "      <th>tqwt_kurtosisValue_dec_4</th>\n",
              "      <th>tqwt_kurtosisValue_dec_5</th>\n",
              "      <th>tqwt_kurtosisValue_dec_6</th>\n",
              "      <th>tqwt_kurtosisValue_dec_7</th>\n",
              "      <th>tqwt_kurtosisValue_dec_8</th>\n",
              "      <th>tqwt_kurtosisValue_dec_9</th>\n",
              "      <th>tqwt_kurtosisValue_dec_10</th>\n",
              "      <th>tqwt_kurtosisValue_dec_11</th>\n",
              "      <th>tqwt_kurtosisValue_dec_12</th>\n",
              "      <th>tqwt_kurtosisValue_dec_13</th>\n",
              "      <th>tqwt_kurtosisValue_dec_14</th>\n",
              "      <th>tqwt_kurtosisValue_dec_15</th>\n",
              "      <th>tqwt_kurtosisValue_dec_16</th>\n",
              "      <th>tqwt_kurtosisValue_dec_17</th>\n",
              "      <th>tqwt_kurtosisValue_dec_18</th>\n",
              "      <th>tqwt_kurtosisValue_dec_19</th>\n",
              "      <th>tqwt_kurtosisValue_dec_20</th>\n",
              "      <th>tqwt_kurtosisValue_dec_21</th>\n",
              "      <th>tqwt_kurtosisValue_dec_22</th>\n",
              "      <th>tqwt_kurtosisValue_dec_23</th>\n",
              "      <th>tqwt_kurtosisValue_dec_24</th>\n",
              "      <th>tqwt_kurtosisValue_dec_25</th>\n",
              "      <th>tqwt_kurtosisValue_dec_26</th>\n",
              "      <th>tqwt_kurtosisValue_dec_27</th>\n",
              "      <th>tqwt_kurtosisValue_dec_28</th>\n",
              "      <th>tqwt_kurtosisValue_dec_29</th>\n",
              "      <th>tqwt_kurtosisValue_dec_30</th>\n",
              "      <th>tqwt_kurtosisValue_dec_31</th>\n",
              "      <th>tqwt_kurtosisValue_dec_32</th>\n",
              "      <th>tqwt_kurtosisValue_dec_33</th>\n",
              "      <th>tqwt_kurtosisValue_dec_34</th>\n",
              "      <th>tqwt_kurtosisValue_dec_35</th>\n",
              "      <th>tqwt_kurtosisValue_dec_36</th>\n",
              "    </tr>\n",
              "  </thead>\n",
              "  <tbody>\n",
              "    <tr>\n",
              "      <th>0</th>\n",
              "      <td>-1.725191</td>\n",
              "      <td>0.968742</td>\n",
              "      <td>0.627644</td>\n",
              "      <td>0.256144</td>\n",
              "      <td>0.605835</td>\n",
              "      <td>-0.846892</td>\n",
              "      <td>-0.842373</td>\n",
              "      <td>0.933328</td>\n",
              "      <td>-0.407251</td>\n",
              "      <td>-0.054993</td>\n",
              "      <td>0.037843</td>\n",
              "      <td>0.066329</td>\n",
              "      <td>0.078201</td>\n",
              "      <td>0.062894</td>\n",
              "      <td>-0.201283</td>\n",
              "      <td>-0.233889</td>\n",
              "      <td>-0.190826</td>\n",
              "      <td>-0.228931</td>\n",
              "      <td>-0.208934</td>\n",
              "      <td>-0.190677</td>\n",
              "      <td>0.145143</td>\n",
              "      <td>-0.142650</td>\n",
              "      <td>0.024291</td>\n",
              "      <td>-0.093886</td>\n",
              "      <td>-0.007346</td>\n",
              "      <td>-0.218368</td>\n",
              "      <td>-0.799532</td>\n",
              "      <td>-1.195436</td>\n",
              "      <td>-0.293249</td>\n",
              "      <td>0.310083</td>\n",
              "      <td>-0.365974</td>\n",
              "      <td>-0.475797</td>\n",
              "      <td>-0.373561</td>\n",
              "      <td>-0.167142</td>\n",
              "      <td>-0.857265</td>\n",
              "      <td>-0.661029</td>\n",
              "      <td>-0.222645</td>\n",
              "      <td>0.229627</td>\n",
              "      <td>0.378088</td>\n",
              "      <td>-1.027997</td>\n",
              "      <td>...</td>\n",
              "      <td>-0.093880</td>\n",
              "      <td>0.079361</td>\n",
              "      <td>0.017901</td>\n",
              "      <td>-0.612966</td>\n",
              "      <td>-0.281986</td>\n",
              "      <td>-0.224840</td>\n",
              "      <td>-0.226189</td>\n",
              "      <td>-0.208757</td>\n",
              "      <td>-0.234194</td>\n",
              "      <td>-0.199847</td>\n",
              "      <td>-0.135370</td>\n",
              "      <td>-0.106852</td>\n",
              "      <td>-0.067104</td>\n",
              "      <td>-0.089821</td>\n",
              "      <td>-0.185799</td>\n",
              "      <td>-0.049753</td>\n",
              "      <td>-0.211543</td>\n",
              "      <td>-0.309089</td>\n",
              "      <td>-0.162063</td>\n",
              "      <td>0.839917</td>\n",
              "      <td>0.338545</td>\n",
              "      <td>0.199362</td>\n",
              "      <td>0.184977</td>\n",
              "      <td>-0.310563</td>\n",
              "      <td>0.743947</td>\n",
              "      <td>0.020341</td>\n",
              "      <td>-0.113267</td>\n",
              "      <td>-0.127837</td>\n",
              "      <td>-0.150744</td>\n",
              "      <td>-0.313179</td>\n",
              "      <td>-0.445877</td>\n",
              "      <td>-0.584822</td>\n",
              "      <td>-0.619412</td>\n",
              "      <td>-0.576762</td>\n",
              "      <td>-0.482286</td>\n",
              "      <td>-0.399331</td>\n",
              "      <td>-0.484533</td>\n",
              "      <td>-0.775137</td>\n",
              "      <td>-0.814727</td>\n",
              "      <td>-0.366595</td>\n",
              "    </tr>\n",
              "    <tr>\n",
              "      <th>1</th>\n",
              "      <td>-1.725191</td>\n",
              "      <td>0.968742</td>\n",
              "      <td>0.121620</td>\n",
              "      <td>-0.080433</td>\n",
              "      <td>0.368415</td>\n",
              "      <td>-0.907404</td>\n",
              "      <td>-0.902773</td>\n",
              "      <td>1.040014</td>\n",
              "      <td>-0.426092</td>\n",
              "      <td>-0.142570</td>\n",
              "      <td>-0.027698</td>\n",
              "      <td>-0.086722</td>\n",
              "      <td>-0.023255</td>\n",
              "      <td>-0.083360</td>\n",
              "      <td>-0.286750</td>\n",
              "      <td>-0.273123</td>\n",
              "      <td>-0.499987</td>\n",
              "      <td>-0.162993</td>\n",
              "      <td>0.194112</td>\n",
              "      <td>-0.499839</td>\n",
              "      <td>0.356172</td>\n",
              "      <td>-0.317264</td>\n",
              "      <td>0.473259</td>\n",
              "      <td>-0.385512</td>\n",
              "      <td>-0.479495</td>\n",
              "      <td>-0.351909</td>\n",
              "      <td>-0.614012</td>\n",
              "      <td>-1.287056</td>\n",
              "      <td>-0.455051</td>\n",
              "      <td>-0.139738</td>\n",
              "      <td>-0.504927</td>\n",
              "      <td>-0.468372</td>\n",
              "      <td>-0.382658</td>\n",
              "      <td>-0.438333</td>\n",
              "      <td>-0.622240</td>\n",
              "      <td>-0.593424</td>\n",
              "      <td>-0.214011</td>\n",
              "      <td>-0.200831</td>\n",
              "      <td>0.037762</td>\n",
              "      <td>-0.290252</td>\n",
              "      <td>...</td>\n",
              "      <td>0.583518</td>\n",
              "      <td>0.538891</td>\n",
              "      <td>0.548765</td>\n",
              "      <td>1.177464</td>\n",
              "      <td>2.154663</td>\n",
              "      <td>2.368003</td>\n",
              "      <td>1.978979</td>\n",
              "      <td>3.147452</td>\n",
              "      <td>3.056680</td>\n",
              "      <td>1.163318</td>\n",
              "      <td>0.317993</td>\n",
              "      <td>0.068175</td>\n",
              "      <td>0.019816</td>\n",
              "      <td>0.010644</td>\n",
              "      <td>0.046675</td>\n",
              "      <td>1.414127</td>\n",
              "      <td>0.530132</td>\n",
              "      <td>-0.101321</td>\n",
              "      <td>0.065223</td>\n",
              "      <td>0.958883</td>\n",
              "      <td>-0.212079</td>\n",
              "      <td>-0.447563</td>\n",
              "      <td>-0.348518</td>\n",
              "      <td>-0.253272</td>\n",
              "      <td>0.921610</td>\n",
              "      <td>-0.252175</td>\n",
              "      <td>-0.324126</td>\n",
              "      <td>-0.170196</td>\n",
              "      <td>-0.149456</td>\n",
              "      <td>-0.313812</td>\n",
              "      <td>-0.445730</td>\n",
              "      <td>-0.584895</td>\n",
              "      <td>-0.589778</td>\n",
              "      <td>0.193084</td>\n",
              "      <td>0.016183</td>\n",
              "      <td>-0.067120</td>\n",
              "      <td>-0.175566</td>\n",
              "      <td>-0.526647</td>\n",
              "      <td>-0.582972</td>\n",
              "      <td>0.400396</td>\n",
              "    </tr>\n",
              "    <tr>\n",
              "      <th>2</th>\n",
              "      <td>-1.725191</td>\n",
              "      <td>0.968742</td>\n",
              "      <td>0.617950</td>\n",
              "      <td>-0.349839</td>\n",
              "      <td>0.733609</td>\n",
              "      <td>-0.927575</td>\n",
              "      <td>-0.922907</td>\n",
              "      <td>1.084576</td>\n",
              "      <td>-0.443557</td>\n",
              "      <td>-0.214916</td>\n",
              "      <td>-0.088871</td>\n",
              "      <td>-0.035705</td>\n",
              "      <td>-0.029223</td>\n",
              "      <td>-0.035742</td>\n",
              "      <td>0.734660</td>\n",
              "      <td>0.760052</td>\n",
              "      <td>0.741128</td>\n",
              "      <td>0.876535</td>\n",
              "      <td>0.659075</td>\n",
              "      <td>0.741133</td>\n",
              "      <td>0.208232</td>\n",
              "      <td>-0.237473</td>\n",
              "      <td>-0.216881</td>\n",
              "      <td>-0.922563</td>\n",
              "      <td>-0.698803</td>\n",
              "      <td>-0.842738</td>\n",
              "      <td>-0.732045</td>\n",
              "      <td>-1.192138</td>\n",
              "      <td>-0.520533</td>\n",
              "      <td>0.376457</td>\n",
              "      <td>-0.172686</td>\n",
              "      <td>-0.539071</td>\n",
              "      <td>-0.510884</td>\n",
              "      <td>-0.641998</td>\n",
              "      <td>-0.583791</td>\n",
              "      <td>-0.172510</td>\n",
              "      <td>-0.240461</td>\n",
              "      <td>-0.693162</td>\n",
              "      <td>-0.433923</td>\n",
              "      <td>-0.465513</td>\n",
              "      <td>...</td>\n",
              "      <td>-0.004858</td>\n",
              "      <td>0.217570</td>\n",
              "      <td>0.006958</td>\n",
              "      <td>0.080028</td>\n",
              "      <td>-0.292562</td>\n",
              "      <td>-0.227810</td>\n",
              "      <td>-0.216774</td>\n",
              "      <td>-0.182713</td>\n",
              "      <td>-0.200350</td>\n",
              "      <td>-0.198043</td>\n",
              "      <td>-0.140021</td>\n",
              "      <td>-0.117771</td>\n",
              "      <td>-0.085551</td>\n",
              "      <td>-0.105307</td>\n",
              "      <td>-0.199109</td>\n",
              "      <td>-0.070097</td>\n",
              "      <td>-0.062373</td>\n",
              "      <td>0.062474</td>\n",
              "      <td>0.219725</td>\n",
              "      <td>0.849271</td>\n",
              "      <td>0.593549</td>\n",
              "      <td>0.713906</td>\n",
              "      <td>0.704703</td>\n",
              "      <td>-0.436470</td>\n",
              "      <td>0.971960</td>\n",
              "      <td>-0.078916</td>\n",
              "      <td>-0.300716</td>\n",
              "      <td>-0.154330</td>\n",
              "      <td>-0.111184</td>\n",
              "      <td>-0.313482</td>\n",
              "      <td>-0.446030</td>\n",
              "      <td>-0.584767</td>\n",
              "      <td>-0.629033</td>\n",
              "      <td>-0.356261</td>\n",
              "      <td>-0.156055</td>\n",
              "      <td>-0.067593</td>\n",
              "      <td>-0.463462</td>\n",
              "      <td>-0.756063</td>\n",
              "      <td>-0.804390</td>\n",
              "      <td>-0.780935</td>\n",
              "    </tr>\n",
              "    <tr>\n",
              "      <th>3</th>\n",
              "      <td>-1.711445</td>\n",
              "      <td>-1.032266</td>\n",
              "      <td>-1.980560</td>\n",
              "      <td>1.382279</td>\n",
              "      <td>0.753631</td>\n",
              "      <td>-1.472186</td>\n",
              "      <td>-1.466513</td>\n",
              "      <td>2.464215</td>\n",
              "      <td>-0.275316</td>\n",
              "      <td>0.710353</td>\n",
              "      <td>1.256919</td>\n",
              "      <td>0.903010</td>\n",
              "      <td>0.907750</td>\n",
              "      <td>0.899601</td>\n",
              "      <td>-0.301887</td>\n",
              "      <td>-0.207732</td>\n",
              "      <td>-0.466431</td>\n",
              "      <td>-0.464316</td>\n",
              "      <td>-0.316846</td>\n",
              "      <td>-0.466432</td>\n",
              "      <td>0.106706</td>\n",
              "      <td>-0.087344</td>\n",
              "      <td>0.180407</td>\n",
              "      <td>0.618858</td>\n",
              "      <td>0.755237</td>\n",
              "      <td>0.740527</td>\n",
              "      <td>1.277948</td>\n",
              "      <td>-0.189599</td>\n",
              "      <td>1.505158</td>\n",
              "      <td>1.653764</td>\n",
              "      <td>0.082484</td>\n",
              "      <td>-0.233843</td>\n",
              "      <td>0.048991</td>\n",
              "      <td>0.029705</td>\n",
              "      <td>0.548691</td>\n",
              "      <td>3.447239</td>\n",
              "      <td>-0.377485</td>\n",
              "      <td>-0.737263</td>\n",
              "      <td>-0.317738</td>\n",
              "      <td>0.042278</td>\n",
              "      <td>...</td>\n",
              "      <td>-0.246717</td>\n",
              "      <td>0.285640</td>\n",
              "      <td>-0.328859</td>\n",
              "      <td>0.044286</td>\n",
              "      <td>-0.132985</td>\n",
              "      <td>-0.206086</td>\n",
              "      <td>-0.205531</td>\n",
              "      <td>-0.213867</td>\n",
              "      <td>-0.223356</td>\n",
              "      <td>-0.102335</td>\n",
              "      <td>0.026226</td>\n",
              "      <td>0.108509</td>\n",
              "      <td>0.091761</td>\n",
              "      <td>0.410993</td>\n",
              "      <td>2.263266</td>\n",
              "      <td>-0.064208</td>\n",
              "      <td>0.549518</td>\n",
              "      <td>1.086552</td>\n",
              "      <td>1.345415</td>\n",
              "      <td>1.226469</td>\n",
              "      <td>1.664564</td>\n",
              "      <td>1.339174</td>\n",
              "      <td>0.448942</td>\n",
              "      <td>-0.443757</td>\n",
              "      <td>-0.521016</td>\n",
              "      <td>0.495640</td>\n",
              "      <td>0.017474</td>\n",
              "      <td>-0.108139</td>\n",
              "      <td>-0.153717</td>\n",
              "      <td>-0.307051</td>\n",
              "      <td>-0.321598</td>\n",
              "      <td>-0.532242</td>\n",
              "      <td>-0.591137</td>\n",
              "      <td>-0.522406</td>\n",
              "      <td>0.008400</td>\n",
              "      <td>-0.449894</td>\n",
              "      <td>-0.470865</td>\n",
              "      <td>-0.633475</td>\n",
              "      <td>-0.588387</td>\n",
              "      <td>-0.801583</td>\n",
              "    </tr>\n",
              "    <tr>\n",
              "      <th>4</th>\n",
              "      <td>-1.711445</td>\n",
              "      <td>-1.032266</td>\n",
              "      <td>-2.472989</td>\n",
              "      <td>1.398068</td>\n",
              "      <td>0.300123</td>\n",
              "      <td>-0.887233</td>\n",
              "      <td>-0.882640</td>\n",
              "      <td>0.987044</td>\n",
              "      <td>3.143597</td>\n",
              "      <td>1.152045</td>\n",
              "      <td>1.178269</td>\n",
              "      <td>1.076468</td>\n",
              "      <td>0.663063</td>\n",
              "      <td>1.079867</td>\n",
              "      <td>-0.264860</td>\n",
              "      <td>-0.286201</td>\n",
              "      <td>-0.236462</td>\n",
              "      <td>-0.291184</td>\n",
              "      <td>-0.076256</td>\n",
              "      <td>-0.236313</td>\n",
              "      <td>0.222407</td>\n",
              "      <td>-0.229570</td>\n",
              "      <td>0.125138</td>\n",
              "      <td>0.657118</td>\n",
              "      <td>0.745381</td>\n",
              "      <td>0.739515</td>\n",
              "      <td>1.480119</td>\n",
              "      <td>-0.109515</td>\n",
              "      <td>1.625949</td>\n",
              "      <td>1.548172</td>\n",
              "      <td>0.615613</td>\n",
              "      <td>-0.193658</td>\n",
              "      <td>-0.441981</td>\n",
              "      <td>-0.185431</td>\n",
              "      <td>0.501239</td>\n",
              "      <td>2.241605</td>\n",
              "      <td>1.498267</td>\n",
              "      <td>-0.732956</td>\n",
              "      <td>-0.399649</td>\n",
              "      <td>0.119246</td>\n",
              "      <td>...</td>\n",
              "      <td>-0.013388</td>\n",
              "      <td>-0.235159</td>\n",
              "      <td>-0.013919</td>\n",
              "      <td>0.061003</td>\n",
              "      <td>-0.291775</td>\n",
              "      <td>-0.244498</td>\n",
              "      <td>-0.240988</td>\n",
              "      <td>-0.244465</td>\n",
              "      <td>-0.246270</td>\n",
              "      <td>-0.197439</td>\n",
              "      <td>-0.109239</td>\n",
              "      <td>-0.058648</td>\n",
              "      <td>-0.045177</td>\n",
              "      <td>-0.029187</td>\n",
              "      <td>0.568083</td>\n",
              "      <td>-0.149075</td>\n",
              "      <td>-0.014490</td>\n",
              "      <td>0.372740</td>\n",
              "      <td>0.639003</td>\n",
              "      <td>0.657692</td>\n",
              "      <td>1.080041</td>\n",
              "      <td>0.715371</td>\n",
              "      <td>-0.085590</td>\n",
              "      <td>-0.364043</td>\n",
              "      <td>-0.454421</td>\n",
              "      <td>0.048107</td>\n",
              "      <td>-0.068906</td>\n",
              "      <td>-0.130465</td>\n",
              "      <td>-0.158586</td>\n",
              "      <td>-0.307069</td>\n",
              "      <td>-0.300835</td>\n",
              "      <td>-0.475545</td>\n",
              "      <td>-0.521356</td>\n",
              "      <td>-0.490090</td>\n",
              "      <td>-0.404833</td>\n",
              "      <td>-0.249678</td>\n",
              "      <td>-0.042021</td>\n",
              "      <td>-0.419354</td>\n",
              "      <td>-0.672216</td>\n",
              "      <td>-0.741477</td>\n",
              "    </tr>\n",
              "  </tbody>\n",
              "</table>\n",
              "<p>5 rows × 754 columns</p>\n",
              "</div>"
            ],
            "text/plain": [
              "         id    gender  ...  tqwt_kurtosisValue_dec_35  tqwt_kurtosisValue_dec_36\n",
              "0 -1.725191  0.968742  ...                  -0.814727                  -0.366595\n",
              "1 -1.725191  0.968742  ...                  -0.582972                   0.400396\n",
              "2 -1.725191  0.968742  ...                  -0.804390                  -0.780935\n",
              "3 -1.711445 -1.032266  ...                  -0.588387                  -0.801583\n",
              "4 -1.711445 -1.032266  ...                  -0.672216                  -0.741477\n",
              "\n",
              "[5 rows x 754 columns]"
            ]
          },
          "metadata": {},
          "execution_count": 33
        }
      ]
    },
    {
      "cell_type": "markdown",
      "metadata": {
        "id": "L9Q4Q4o6huBd"
      },
      "source": [
        "# Splitting the data"
      ]
    },
    {
      "cell_type": "code",
      "metadata": {
        "id": "MsQufjsOh12e"
      },
      "source": [
        "x=df_feature\n",
        "y=df[\"class\"]"
      ],
      "execution_count": 34,
      "outputs": []
    },
    {
      "cell_type": "code",
      "metadata": {
        "id": "vXT9F-w9h5IJ"
      },
      "source": [
        "X_train, X_test, y_train, y_test = train_test_split(X, y, test_size=0.33, random_state=0)\n",
        "from sklearn.neighbors import KNeighborsClassifier"
      ],
      "execution_count": 35,
      "outputs": []
    },
    {
      "cell_type": "markdown",
      "metadata": {
        "id": "s_N8omZqiCks"
      },
      "source": [
        "# Finding best value for K"
      ]
    },
    {
      "cell_type": "code",
      "metadata": {
        "id": "uYdaKvPNiHQC"
      },
      "source": [
        "import numpy as np\n",
        "err_rate = []\n",
        "for i in range (1,40):\n",
        "    knn = KNeighborsClassifier(n_neighbors=i)\n",
        "    knn.fit(X_train,y_train)\n",
        "    predi = knn.predict(X_test)\n",
        "    err_rate.append(np.mean(predi != y_test))"
      ],
      "execution_count": 36,
      "outputs": []
    },
    {
      "cell_type": "code",
      "metadata": {
        "colab": {
          "base_uri": "https://localhost:8080/",
          "height": 391
        },
        "id": "uLBNj23riMga",
        "outputId": "686cc2c8-eb14-4c3a-ec65-aa5eb4fda32d"
      },
      "source": [
        "plt.figure(figsize=(10,6))\n",
        "plt.grid()\n",
        "plt.plot(range(1,40),err_rate,color = 'blue',linestyle='--',marker='.',markerfacecolor='red',markersize=10)"
      ],
      "execution_count": 37,
      "outputs": [
        {
          "output_type": "execute_result",
          "data": {
            "text/plain": [
              "[<matplotlib.lines.Line2D at 0x7f0cc00bd7d0>]"
            ]
          },
          "metadata": {},
          "execution_count": 37
        },
        {
          "output_type": "display_data",
          "data": {
            "image/png": "[encoded data removed]",
            "text/plain": [
              "<Figure size 720x432 with 1 Axes>"
            ]
          },
          "metadata": {
            "needs_background": "light"
          }
        }
      ]
    },
    {
      "cell_type": "markdown",
      "metadata": {
        "id": "hzdGV6BliVA4"
      },
      "source": [
        "# Prediction"
      ]
    },
    {
      "cell_type": "code",
      "metadata": {
        "id": "0w8ViNTEiZ7u"
      },
      "source": [
        "knn = KNeighborsClassifier(n_neighbors=3)\n",
        "knn.fit(X_train,y_train)\n",
        "prediction = knn.predict(X_test)"
      ],
      "execution_count": 38,
      "outputs": []
    },
    {
      "cell_type": "code",
      "metadata": {
        "colab": {
          "base_uri": "https://localhost:8080/"
        },
        "id": "001OeNQDigaw",
        "outputId": "ccd0a057-816f-49f8-c2a9-56dea6907ff9"
      },
      "source": [
        "prediction"
      ],
      "execution_count": 39,
      "outputs": [
        {
          "output_type": "execute_result",
          "data": {
            "text/plain": [
              "array([ True, False,  True, False,  True,  True,  True,  True,  True,\n",
              "        True,  True,  True,  True, False,  True,  True,  True, False,\n",
              "        True,  True, False,  True,  True,  True,  True,  True, False,\n",
              "        True,  True,  True,  True,  True, False,  True, False,  True,\n",
              "        True,  True,  True,  True,  True,  True,  True,  True,  True,\n",
              "        True,  True,  True,  True, False,  True,  True, False,  True,\n",
              "        True,  True, False,  True,  True,  True,  True,  True,  True,\n",
              "        True, False, False,  True,  True, False,  True,  True,  True,\n",
              "        True,  True,  True,  True,  True,  True,  True, False,  True,\n",
              "        True,  True,  True,  True,  True,  True,  True,  True,  True,\n",
              "       False,  True,  True, False,  True, False,  True, False,  True,\n",
              "       False,  True,  True, False,  True,  True,  True,  True,  True,\n",
              "        True, False,  True,  True,  True,  True,  True, False,  True,\n",
              "       False,  True,  True,  True, False, False,  True,  True,  True,\n",
              "        True,  True,  True,  True, False,  True,  True,  True,  True,\n",
              "       False,  True,  True,  True, False,  True,  True,  True,  True,\n",
              "       False,  True, False,  True,  True,  True,  True, False,  True,\n",
              "       False,  True,  True,  True,  True, False,  True, False,  True,\n",
              "        True,  True,  True, False,  True,  True,  True,  True,  True,\n",
              "        True,  True,  True,  True,  True,  True,  True,  True,  True,\n",
              "        True, False,  True,  True,  True, False,  True,  True,  True,\n",
              "        True,  True,  True, False,  True,  True,  True,  True,  True,\n",
              "        True,  True,  True, False,  True,  True,  True,  True,  True,\n",
              "       False, False, False,  True,  True,  True, False,  True,  True,\n",
              "        True,  True,  True,  True,  True,  True,  True,  True,  True,\n",
              "        True,  True,  True, False,  True,  True,  True, False,  True,\n",
              "       False,  True,  True,  True,  True,  True,  True,  True,  True,\n",
              "        True,  True,  True, False,  True,  True,  True])"
            ]
          },
          "metadata": {},
          "execution_count": 39
        }
      ]
    },
    {
      "cell_type": "code",
      "metadata": {
        "colab": {
          "base_uri": "https://localhost:8080/"
        },
        "id": "d5G0ql2Yile2",
        "outputId": "5c9f12b3-e3e2-41c9-e7c1-e387e7109517"
      },
      "source": [
        "from sklearn.metrics import classification_report,confusion_matrix,accuracy_score\n",
        "print('Classification report')\n",
        "print(classification_report(y_test,prediction))\n",
        "print('\\n')\n",
        "print('Confission matrix')\n",
        "print(confusion_matrix(y_test,prediction))"
      ],
      "execution_count": 40,
      "outputs": [
        {
          "output_type": "stream",
          "name": "stdout",
          "text": [
            "Classification report\n",
            "              precision    recall  f1-score   support\n",
            "\n",
            "       False       0.50      0.39      0.44        61\n",
            "        True       0.82      0.87      0.84       189\n",
            "\n",
            "    accuracy                           0.76       250\n",
            "   macro avg       0.66      0.63      0.64       250\n",
            "weighted avg       0.74      0.76      0.75       250\n",
            "\n",
            "\n",
            "\n",
            "Confission matrix\n",
            "[[ 24  37]\n",
            " [ 24 165]]\n"
          ]
        }
      ]
    },
    {
      "cell_type": "markdown",
      "metadata": {
        "id": "Fo7zo1c7isGO"
      },
      "source": [
        "# Hatmap for confusion matrix"
      ]
    },
    {
      "cell_type": "code",
      "metadata": {
        "colab": {
          "base_uri": "https://localhost:8080/",
          "height": 282
        },
        "id": "n3ViXS_gix7F",
        "outputId": "a23eba44-88f8-42e4-8c92-e9c05650bb45"
      },
      "source": [
        "sns.heatmap(confusion_matrix(y_test,prediction),cmap=\"Reds\")"
      ],
      "execution_count": 41,
      "outputs": [
        {
          "output_type": "execute_result",
          "data": {
            "text/plain": [
              "<matplotlib.axes._subplots.AxesSubplot at 0x7f0cc016d5d0>"
            ]
          },
          "metadata": {},
          "execution_count": 41
        },
        {
          "output_type": "display_data",
          "data": {
            "image/png": "[encoded data removed]",
            "text/plain": [
              "<Figure size 432x288 with 2 Axes>"
            ]
          },
          "metadata": {
            "needs_background": "light"
          }
        }
      ]
    },
    {
      "cell_type": "code",
      "metadata": {
        "colab": {
          "base_uri": "https://localhost:8080/"
        },
        "id": "pTRGsC9Ai28O",
        "outputId": "62cc2124-207d-4f16-ce33-37936562655f"
      },
      "source": [
        "KNN=accuracy_score(y_test,prediction)*100\n",
        "KNN"
      ],
      "execution_count": 42,
      "outputs": [
        {
          "output_type": "execute_result",
          "data": {
            "text/plain": [
              "75.6"
            ]
          },
          "metadata": {},
          "execution_count": 42
        }
      ]
    },
    {
      "cell_type": "markdown",
      "metadata": {
        "id": "OdObB9WUi_KN"
      },
      "source": [
        "# Random Forest"
      ]
    },
    {
      "cell_type": "code",
      "metadata": {
        "colab": {
          "base_uri": "https://localhost:8080/"
        },
        "id": "bOBNim17jDiZ",
        "outputId": "0585e3a3-b184-4e08-e093-60abf5ee5f46"
      },
      "source": [
        "from sklearn.ensemble import RandomForestClassifier\n",
        "rfc = RandomForestClassifier()\n",
        "rfc.fit(X_train,y_train)"
      ],
      "execution_count": 43,
      "outputs": [
        {
          "output_type": "execute_result",
          "data": {
            "text/plain": [
              "RandomForestClassifier(bootstrap=True, ccp_alpha=0.0, class_weight=None,\n",
              "                       criterion='gini', max_depth=None, max_features='auto',\n",
              "                       max_leaf_nodes=None, max_samples=None,\n",
              "                       min_impurity_decrease=0.0, min_impurity_split=None,\n",
              "                       min_samples_leaf=1, min_samples_split=2,\n",
              "                       min_weight_fraction_leaf=0.0, n_estimators=100,\n",
              "                       n_jobs=None, oob_score=False, random_state=None,\n",
              "                       verbose=0, warm_start=False)"
            ]
          },
          "metadata": {},
          "execution_count": 43
        }
      ]
    },
    {
      "cell_type": "code",
      "metadata": {
        "colab": {
          "base_uri": "https://localhost:8080/"
        },
        "id": "sHMOhOOZjJT-",
        "outputId": "572a9fe3-686d-4c5d-b727-7e81efe9f8e3"
      },
      "source": [
        "prediction = rfc.predict(X_test)\n",
        "prediction"
      ],
      "execution_count": 44,
      "outputs": [
        {
          "output_type": "execute_result",
          "data": {
            "text/plain": [
              "array([False, False,  True,  True,  True,  True,  True,  True, False,\n",
              "        True,  True,  True, False,  True,  True,  True,  True,  True,\n",
              "        True,  True,  True, False,  True,  True,  True,  True,  True,\n",
              "        True,  True,  True,  True,  True, False, False,  True,  True,\n",
              "        True,  True,  True,  True, False,  True,  True,  True,  True,\n",
              "        True,  True,  True,  True,  True,  True,  True,  True,  True,\n",
              "        True,  True, False,  True,  True,  True,  True,  True, False,\n",
              "        True,  True, False,  True,  True, False,  True,  True,  True,\n",
              "        True,  True,  True,  True,  True,  True,  True,  True,  True,\n",
              "        True,  True,  True,  True,  True,  True,  True,  True,  True,\n",
              "       False,  True,  True, False,  True,  True,  True,  True,  True,\n",
              "       False,  True,  True,  True,  True,  True, False,  True,  True,\n",
              "       False,  True,  True,  True,  True,  True,  True, False,  True,\n",
              "        True, False,  True,  True,  True, False, False,  True,  True,\n",
              "        True,  True,  True, False,  True,  True,  True,  True,  True,\n",
              "       False,  True,  True,  True,  True,  True,  True,  True,  True,\n",
              "        True, False, False,  True,  True, False,  True,  True,  True,\n",
              "        True,  True,  True,  True,  True,  True,  True, False,  True,\n",
              "        True,  True,  True,  True,  True,  True,  True,  True,  True,\n",
              "       False,  True,  True,  True,  True,  True, False,  True,  True,\n",
              "       False,  True,  True,  True,  True, False,  True,  True,  True,\n",
              "        True,  True, False,  True,  True,  True,  True,  True, False,\n",
              "        True,  True,  True, False,  True,  True,  True,  True,  True,\n",
              "        True, False, False,  True,  True,  True, False,  True,  True,\n",
              "        True,  True, False, False,  True, False,  True,  True,  True,\n",
              "        True,  True,  True,  True,  True,  True,  True, False,  True,\n",
              "        True,  True,  True,  True,  True,  True, False,  True,  True,\n",
              "        True,  True,  True,  True,  True,  True, False])"
            ]
          },
          "metadata": {},
          "execution_count": 44
        }
      ]
    },
    {
      "cell_type": "code",
      "metadata": {
        "colab": {
          "base_uri": "https://localhost:8080/"
        },
        "id": "8kjN-Ra6jPeo",
        "outputId": "881ffea4-75cf-4d7d-a04e-f8277eeffc4d"
      },
      "source": [
        "print('Classification report')\n",
        "print(classification_report(y_test,prediction))\n",
        "print('\\n')\n",
        "print('Confission matrix')\n",
        "print(confusion_matrix(y_test,prediction))"
      ],
      "execution_count": 45,
      "outputs": [
        {
          "output_type": "stream",
          "name": "stdout",
          "text": [
            "Classification report\n",
            "              precision    recall  f1-score   support\n",
            "\n",
            "       False       0.84      0.59      0.69        61\n",
            "        True       0.88      0.96      0.92       189\n",
            "\n",
            "    accuracy                           0.87       250\n",
            "   macro avg       0.86      0.78      0.81       250\n",
            "weighted avg       0.87      0.87      0.86       250\n",
            "\n",
            "\n",
            "\n",
            "Confission matrix\n",
            "[[ 36  25]\n",
            " [  7 182]]\n"
          ]
        }
      ]
    },
    {
      "cell_type": "markdown",
      "metadata": {
        "id": "U3L793oFjVp5"
      },
      "source": [
        "# Heatmap for confusion matrix"
      ]
    },
    {
      "cell_type": "code",
      "metadata": {
        "colab": {
          "base_uri": "https://localhost:8080/",
          "height": 284
        },
        "id": "ZOCdtAhrja-6",
        "outputId": "4c99d773-7db0-4a2a-af9a-1c007a9dcaf4"
      },
      "source": [
        "sns.heatmap(confusion_matrix(prediction,y_test),cmap=\"viridis\")"
      ],
      "execution_count": 46,
      "outputs": [
        {
          "output_type": "execute_result",
          "data": {
            "text/plain": [
              "<matplotlib.axes._subplots.AxesSubplot at 0x7f0cb671a150>"
            ]
          },
          "metadata": {},
          "execution_count": 46
        },
        {
          "output_type": "display_data",
          "data": {
            "image/png": "[encoded data removed]",
            "text/plain": [
              "<Figure size 432x288 with 2 Axes>"
            ]
          },
          "metadata": {
            "needs_background": "light"
          }
        }
      ]
    },
    {
      "cell_type": "code",
      "metadata": {
        "colab": {
          "base_uri": "https://localhost:8080/"
        },
        "id": "bcdEa6rxjfzU",
        "outputId": "0f3fcf0a-bcd5-43fc-a202-3deeee1692b1"
      },
      "source": [
        "RandomForest=accuracy_score(prediction,y_test)*100\n",
        "RandomForest"
      ],
      "execution_count": 48,
      "outputs": [
        {
          "output_type": "execute_result",
          "data": {
            "text/plain": [
              "87.2"
            ]
          },
          "metadata": {},
          "execution_count": 48
        }
      ]
    },
    {
      "cell_type": "markdown",
      "metadata": {
        "id": "iNxYMNL-nqyt"
      },
      "source": [
        "# Decision Tree"
      ]
    },
    {
      "cell_type": "code",
      "metadata": {
        "id": "qQ_uUJVJnvEw"
      },
      "source": [
        "X = df.drop(\"class\",axis=1)\n",
        "y = df[\"class\"]"
      ],
      "execution_count": 49,
      "outputs": []
    },
    {
      "cell_type": "code",
      "metadata": {
        "colab": {
          "base_uri": "https://localhost:8080/"
        },
        "id": "ckaL5DPBnzwO",
        "outputId": "f69556ca-326c-41a1-f823-97a7d7095366"
      },
      "source": [
        "X_train, X_test, y_train, y_test = train_test_split(X, y, test_size=0.33, random_state=0)\n",
        "from sklearn.tree import DecisionTreeClassifier\n",
        "dtree = DecisionTreeClassifier()\n",
        "dtree.fit(X_train,y_train)"
      ],
      "execution_count": 50,
      "outputs": [
        {
          "output_type": "execute_result",
          "data": {
            "text/plain": [
              "DecisionTreeClassifier(ccp_alpha=0.0, class_weight=None, criterion='gini',\n",
              "                       max_depth=None, max_features=None, max_leaf_nodes=None,\n",
              "                       min_impurity_decrease=0.0, min_impurity_split=None,\n",
              "                       min_samples_leaf=1, min_samples_split=2,\n",
              "                       min_weight_fraction_leaf=0.0, presort='deprecated',\n",
              "                       random_state=None, splitter='best')"
            ]
          },
          "metadata": {},
          "execution_count": 50
        }
      ]
    },
    {
      "cell_type": "code",
      "metadata": {
        "colab": {
          "base_uri": "https://localhost:8080/"
        },
        "id": "fU499aUEn54k",
        "outputId": "6d4327dd-56a4-4a72-f166-62b077f24505"
      },
      "source": [
        "prediction = dtree.predict(X_test)\n",
        "prediction"
      ],
      "execution_count": 51,
      "outputs": [
        {
          "output_type": "execute_result",
          "data": {
            "text/plain": [
              "array([ True, False, False,  True,  True,  True,  True,  True, False,\n",
              "        True,  True, False, False,  True,  True,  True,  True, False,\n",
              "       False,  True,  True, False,  True, False,  True,  True,  True,\n",
              "       False,  True,  True,  True,  True, False,  True,  True,  True,\n",
              "       False,  True,  True,  True, False,  True,  True,  True,  True,\n",
              "        True,  True,  True,  True,  True,  True,  True,  True,  True,\n",
              "        True,  True, False, False,  True,  True,  True,  True,  True,\n",
              "        True,  True, False,  True, False,  True,  True,  True,  True,\n",
              "        True,  True,  True,  True,  True, False,  True,  True, False,\n",
              "        True,  True,  True,  True,  True, False, False,  True,  True,\n",
              "        True,  True,  True, False,  True,  True,  True, False,  True,\n",
              "       False,  True,  True,  True,  True,  True,  True,  True,  True,\n",
              "       False,  True,  True,  True,  True, False,  True,  True,  True,\n",
              "       False, False, False,  True,  True, False, False,  True,  True,\n",
              "        True,  True,  True, False,  True,  True,  True,  True, False,\n",
              "       False,  True,  True,  True, False,  True,  True,  True,  True,\n",
              "        True, False, False,  True,  True, False, False,  True,  True,\n",
              "        True,  True, False,  True,  True,  True,  True, False,  True,\n",
              "       False, False,  True, False,  True,  True,  True,  True,  True,\n",
              "       False,  True,  True,  True,  True,  True, False,  True,  True,\n",
              "       False, False,  True,  True,  True, False,  True,  True, False,\n",
              "        True,  True, False,  True,  True,  True,  True,  True, False,\n",
              "        True,  True,  True,  True,  True,  True,  True,  True,  True,\n",
              "        True, False, False,  True,  True,  True,  True,  True,  True,\n",
              "       False,  True,  True,  True,  True, False,  True,  True,  True,\n",
              "        True,  True,  True, False,  True,  True,  True,  True,  True,\n",
              "       False,  True, False, False, False,  True, False,  True,  True,\n",
              "        True, False,  True,  True,  True,  True, False])"
            ]
          },
          "metadata": {},
          "execution_count": 51
        }
      ]
    },
    {
      "cell_type": "code",
      "metadata": {
        "colab": {
          "base_uri": "https://localhost:8080/"
        },
        "id": "4qAGZxfan-K8",
        "outputId": "76e49369-6939-421e-bc26-74a38a4d71d9"
      },
      "source": [
        "print('Classification report')\n",
        "print(classification_report(y_test,prediction))\n",
        "print('\\n')\n",
        "print('Confission matrix')\n",
        "print(confusion_matrix(y_test,prediction))"
      ],
      "execution_count": 52,
      "outputs": [
        {
          "output_type": "stream",
          "name": "stdout",
          "text": [
            "Classification report\n",
            "              precision    recall  f1-score   support\n",
            "\n",
            "       False       0.55      0.57      0.56        61\n",
            "        True       0.86      0.85      0.85       189\n",
            "\n",
            "    accuracy                           0.78       250\n",
            "   macro avg       0.70      0.71      0.71       250\n",
            "weighted avg       0.78      0.78      0.78       250\n",
            "\n",
            "\n",
            "\n",
            "Confission matrix\n",
            "[[ 35  26]\n",
            " [ 29 160]]\n"
          ]
        }
      ]
    },
    {
      "cell_type": "markdown",
      "metadata": {
        "id": "v07QmpbJoGiz"
      },
      "source": [
        "# heatmap for confusion matrix"
      ]
    },
    {
      "cell_type": "code",
      "metadata": {
        "colab": {
          "base_uri": "https://localhost:8080/",
          "height": 286
        },
        "id": "MzmNyQ3KoLRS",
        "outputId": "5cf98323-939f-4637-f7da-1e5aca428328"
      },
      "source": [
        "sns.heatmap(confusion_matrix(prediction,y_test),cmap=\"copper\")"
      ],
      "execution_count": 53,
      "outputs": [
        {
          "output_type": "execute_result",
          "data": {
            "text/plain": [
              "<matplotlib.axes._subplots.AxesSubplot at 0x7f0cb5735cd0>"
            ]
          },
          "metadata": {},
          "execution_count": 53
        },
        {
          "output_type": "display_data",
          "data": {
            "image/png": "[encoded data removed]",
            "text/plain": [
              "<Figure size 432x288 with 2 Axes>"
            ]
          },
          "metadata": {
            "needs_background": "light"
          }
        }
      ]
    },
    {
      "cell_type": "code",
      "metadata": {
        "colab": {
          "base_uri": "https://localhost:8080/"
        },
        "id": "eXzDnnUWoQeF",
        "outputId": "903fdca1-4ed6-4122-c3b8-03e65989ec3e"
      },
      "source": [
        "DecisionTree=accuracy_score(prediction,y_test)*100\n",
        "DecisionTree"
      ],
      "execution_count": 54,
      "outputs": [
        {
          "output_type": "execute_result",
          "data": {
            "text/plain": [
              "78.0"
            ]
          },
          "metadata": {},
          "execution_count": 54
        }
      ]
    },
    {
      "cell_type": "markdown",
      "metadata": {
        "id": "06pEIGp0oWNZ"
      },
      "source": [
        "# Logistic regression"
      ]
    },
    {
      "cell_type": "code",
      "metadata": {
        "id": "EH4wDXFdoble"
      },
      "source": [
        "X = df_feature\n",
        "y = df['class']"
      ],
      "execution_count": 55,
      "outputs": []
    },
    {
      "cell_type": "code",
      "metadata": {
        "colab": {
          "base_uri": "https://localhost:8080/"
        },
        "id": "xJGma7oSogUD",
        "outputId": "f4a9b82e-3123-4e28-a0a9-872e27d32e3d"
      },
      "source": [
        "X_train, X_test, y_train, y_test = train_test_split(X, y, test_size=0.33, random_state=0)\n",
        "from sklearn.linear_model import LogisticRegression\n",
        "logireg = LogisticRegression()\n",
        "logireg.fit(X_train,y_train)"
      ],
      "execution_count": 56,
      "outputs": [
        {
          "output_type": "stream",
          "name": "stderr",
          "text": [
            "/usr/local/lib/python3.7/dist-packages/sklearn/linear_model/_logistic.py:940: ConvergenceWarning: lbfgs failed to converge (status=1):\n",
            "STOP: TOTAL NO. of ITERATIONS REACHED LIMIT.\n",
            "\n",
            "Increase the number of iterations (max_iter) or scale the data as shown in:\n",
            "    https://scikit-learn.org/stable/modules/preprocessing.html\n",
            "Please also refer to the documentation for alternative solver options:\n",
            "    https://scikit-learn.org/stable/modules/linear_model.html#logistic-regression\n",
            "  extra_warning_msg=_LOGISTIC_SOLVER_CONVERGENCE_MSG)\n"
          ]
        },
        {
          "output_type": "execute_result",
          "data": {
            "text/plain": [
              "LogisticRegression(C=1.0, class_weight=None, dual=False, fit_intercept=True,\n",
              "                   intercept_scaling=1, l1_ratio=None, max_iter=100,\n",
              "                   multi_class='auto', n_jobs=None, penalty='l2',\n",
              "                   random_state=None, solver='lbfgs', tol=0.0001, verbose=0,\n",
              "                   warm_start=False)"
            ]
          },
          "metadata": {},
          "execution_count": 56
        }
      ]
    },
    {
      "cell_type": "code",
      "metadata": {
        "colab": {
          "base_uri": "https://localhost:8080/"
        },
        "id": "qGqosdlMolgB",
        "outputId": "beb0c3cd-4fc6-4c06-ebd0-3ea1f81c17bc"
      },
      "source": [
        "prediction_logi = logireg.predict(X_test)\n",
        "prediction_logi"
      ],
      "execution_count": 57,
      "outputs": [
        {
          "output_type": "execute_result",
          "data": {
            "text/plain": [
              "array([False, False,  True,  True,  True,  True,  True,  True, False,\n",
              "        True,  True,  True, False,  True,  True,  True,  True,  True,\n",
              "       False,  True,  True, False,  True, False,  True,  True,  True,\n",
              "        True,  True,  True,  True, False, False, False, False,  True,\n",
              "        True,  True,  True,  True, False,  True,  True,  True,  True,\n",
              "        True,  True, False,  True,  True,  True,  True,  True,  True,\n",
              "        True,  True, False,  True, False,  True,  True,  True, False,\n",
              "        True,  True, False,  True,  True, False,  True,  True,  True,\n",
              "        True, False,  True,  True,  True,  True,  True,  True, False,\n",
              "        True,  True,  True,  True,  True,  True,  True,  True,  True,\n",
              "        True,  True,  True,  True,  True,  True,  True, False,  True,\n",
              "       False,  True,  True,  True,  True,  True, False,  True,  True,\n",
              "       False,  True,  True,  True,  True,  True,  True, False,  True,\n",
              "        True,  True, False,  True,  True, False,  True,  True,  True,\n",
              "        True,  True,  True, False,  True,  True,  True, False, False,\n",
              "       False,  True,  True,  True,  True,  True,  True,  True, False,\n",
              "       False, False, False,  True,  True, False,  True,  True,  True,\n",
              "        True,  True,  True,  True,  True,  True,  True, False,  True,\n",
              "        True,  True,  True,  True,  True, False,  True,  True,  True,\n",
              "       False,  True,  True,  True,  True,  True, False,  True,  True,\n",
              "       False,  True,  True,  True,  True,  True,  True,  True, False,\n",
              "        True, False, False,  True,  True,  True, False,  True, False,\n",
              "        True,  True,  True, False,  True, False,  True,  True,  True,\n",
              "        True, False, False,  True,  True,  True, False,  True,  True,\n",
              "        True, False, False,  True,  True,  True,  True,  True,  True,\n",
              "        True,  True,  True, False,  True,  True,  True, False,  True,\n",
              "        True,  True,  True, False,  True,  True,  True,  True,  True,\n",
              "        True,  True,  True,  True,  True,  True, False])"
            ]
          },
          "metadata": {},
          "execution_count": 57
        }
      ]
    },
    {
      "cell_type": "code",
      "metadata": {
        "colab": {
          "base_uri": "https://localhost:8080/"
        },
        "id": "c2i2tjOco06z",
        "outputId": "8fd864d6-3999-447a-db61-c2f388b7fa3d"
      },
      "source": [
        "print('Classification report')\n",
        "print(classification_report(y_test,prediction))\n",
        "print('\\n')\n",
        "print('Confission matrix')\n",
        "print(confusion_matrix(y_test,prediction))"
      ],
      "execution_count": 58,
      "outputs": [
        {
          "output_type": "stream",
          "name": "stdout",
          "text": [
            "Classification report\n",
            "              precision    recall  f1-score   support\n",
            "\n",
            "       False       0.55      0.57      0.56        61\n",
            "        True       0.86      0.85      0.85       189\n",
            "\n",
            "    accuracy                           0.78       250\n",
            "   macro avg       0.70      0.71      0.71       250\n",
            "weighted avg       0.78      0.78      0.78       250\n",
            "\n",
            "\n",
            "\n",
            "Confission matrix\n",
            "[[ 35  26]\n",
            " [ 29 160]]\n"
          ]
        }
      ]
    },
    {
      "cell_type": "markdown",
      "metadata": {
        "id": "YbXlHMweo7JE"
      },
      "source": [
        "# Heatmap for confusion matrix"
      ]
    },
    {
      "cell_type": "code",
      "metadata": {
        "colab": {
          "base_uri": "https://localhost:8080/",
          "height": 282
        },
        "id": "UA9zM_cbo_8W",
        "outputId": "215a3f15-e51d-4370-d40b-8b443053d8c9"
      },
      "source": [
        "sns.heatmap(confusion_matrix(y_test,prediction_logi),cmap='viridis')"
      ],
      "execution_count": 59,
      "outputs": [
        {
          "output_type": "execute_result",
          "data": {
            "text/plain": [
              "<matplotlib.axes._subplots.AxesSubplot at 0x7f0cb18c0b50>"
            ]
          },
          "metadata": {},
          "execution_count": 59
        },
        {
          "output_type": "display_data",
          "data": {
            "image/png": "[encoded data removed]",
            "text/plain": [
              "<Figure size 432x288 with 2 Axes>"
            ]
          },
          "metadata": {
            "needs_background": "light"
          }
        }
      ]
    },
    {
      "cell_type": "code",
      "metadata": {
        "colab": {
          "base_uri": "https://localhost:8080/"
        },
        "id": "h8G4F-HvpGuG",
        "outputId": "d34051ea-16f3-4536-994d-eb97556a1141"
      },
      "source": [
        "LogisticRegression=accuracy_score(y_test,prediction_logi)*100\n",
        "LogisticRegression"
      ],
      "execution_count": 60,
      "outputs": [
        {
          "output_type": "execute_result",
          "data": {
            "text/plain": [
              "84.0"
            ]
          },
          "metadata": {},
          "execution_count": 60
        }
      ]
    },
    {
      "cell_type": "markdown",
      "metadata": {
        "id": "XQfT1OWDpLcz"
      },
      "source": [
        "# SVC(support vector Classifier)"
      ]
    },
    {
      "cell_type": "code",
      "metadata": {
        "id": "zhukx3dUpQjD"
      },
      "source": [
        "from sklearn.svm import SVC"
      ],
      "execution_count": 61,
      "outputs": []
    },
    {
      "cell_type": "code",
      "metadata": {
        "id": "EKWxPyw0pTp0"
      },
      "source": [
        "model=SVC()\n",
        "model.fit(X_train,y_train)\n",
        "y_pred=model.predict(X_test)"
      ],
      "execution_count": 62,
      "outputs": []
    },
    {
      "cell_type": "code",
      "metadata": {
        "colab": {
          "base_uri": "https://localhost:8080/"
        },
        "id": "x-Md0tW8pZKR",
        "outputId": "b3557b2d-a4bf-40dd-afdc-21c5fd78f949"
      },
      "source": [
        "y_pred"
      ],
      "execution_count": 63,
      "outputs": [
        {
          "output_type": "execute_result",
          "data": {
            "text/plain": [
              "array([False, False,  True,  True,  True,  True,  True,  True, False,\n",
              "        True,  True,  True, False,  True,  True,  True,  True,  True,\n",
              "        True,  True,  True, False,  True,  True,  True,  True,  True,\n",
              "        True,  True,  True,  True,  True, False,  True,  True,  True,\n",
              "        True,  True,  True,  True, False,  True,  True,  True,  True,\n",
              "        True,  True,  True,  True,  True,  True,  True,  True,  True,\n",
              "        True,  True, False,  True,  True,  True,  True,  True,  True,\n",
              "        True,  True, False,  True,  True, False,  True,  True,  True,\n",
              "        True,  True,  True,  True,  True,  True,  True,  True,  True,\n",
              "        True,  True,  True,  True,  True,  True,  True,  True,  True,\n",
              "        True,  True,  True, False,  True,  True,  True,  True,  True,\n",
              "       False,  True,  True,  True,  True,  True, False,  True,  True,\n",
              "       False,  True,  True,  True,  True,  True,  True, False,  True,\n",
              "        True,  True,  True,  True,  True, False, False,  True,  True,\n",
              "        True,  True,  True,  True,  True,  True,  True,  True,  True,\n",
              "       False,  True,  True,  True,  True,  True,  True,  True,  True,\n",
              "        True, False, False,  True,  True, False,  True,  True,  True,\n",
              "        True,  True,  True,  True,  True,  True,  True, False,  True,\n",
              "        True,  True,  True,  True,  True,  True,  True,  True,  True,\n",
              "       False,  True,  True,  True,  True,  True, False,  True,  True,\n",
              "       False,  True,  True,  True,  True, False,  True,  True,  True,\n",
              "        True,  True, False,  True,  True,  True,  True,  True, False,\n",
              "        True,  True,  True,  True,  True,  True,  True,  True,  True,\n",
              "        True, False, False,  True,  True,  True, False,  True,  True,\n",
              "        True,  True,  True,  True,  True, False,  True,  True,  True,\n",
              "        True,  True,  True,  True,  True,  True,  True, False,  True,\n",
              "        True,  True,  True,  True,  True,  True, False,  True,  True,\n",
              "        True,  True,  True,  True,  True,  True, False])"
            ]
          },
          "metadata": {},
          "execution_count": 63
        }
      ]
    },
    {
      "cell_type": "code",
      "metadata": {
        "colab": {
          "base_uri": "https://localhost:8080/"
        },
        "id": "VDSZxhK7pdZH",
        "outputId": "4590d04c-4547-4e35-bc01-ba0d2508cb0f"
      },
      "source": [
        "print('Classification report')\n",
        "print(classification_report(y_test,prediction))\n",
        "print('\\n')\n",
        "print('Confission matrix')\n",
        "print(confusion_matrix(y_test,prediction))"
      ],
      "execution_count": 64,
      "outputs": [
        {
          "output_type": "stream",
          "name": "stdout",
          "text": [
            "Classification report\n",
            "              precision    recall  f1-score   support\n",
            "\n",
            "       False       0.55      0.57      0.56        61\n",
            "        True       0.86      0.85      0.85       189\n",
            "\n",
            "    accuracy                           0.78       250\n",
            "   macro avg       0.70      0.71      0.71       250\n",
            "weighted avg       0.78      0.78      0.78       250\n",
            "\n",
            "\n",
            "\n",
            "Confission matrix\n",
            "[[ 35  26]\n",
            " [ 29 160]]\n"
          ]
        }
      ]
    },
    {
      "cell_type": "markdown",
      "metadata": {
        "id": "ZLkcJSiLpjjf"
      },
      "source": [
        "# Heatmap for confusion matrix"
      ]
    },
    {
      "cell_type": "code",
      "metadata": {
        "colab": {
          "base_uri": "https://localhost:8080/",
          "height": 283
        },
        "id": "MjLrdr0xpoEs",
        "outputId": "5e4af265-0ded-47c4-fbcd-7114294205f1"
      },
      "source": [
        "sns.heatmap(confusion_matrix(y_pred,y_test),cmap=\"PuBu\")"
      ],
      "execution_count": 65,
      "outputs": [
        {
          "output_type": "execute_result",
          "data": {
            "text/plain": [
              "<matplotlib.axes._subplots.AxesSubplot at 0x7f0cb17e8d10>"
            ]
          },
          "metadata": {},
          "execution_count": 65
        },
        {
          "output_type": "display_data",
          "data": {
            "image/png": "[encoded data removed]",
            "text/plain": [
              "<Figure size 432x288 with 2 Axes>"
            ]
          },
          "metadata": {
            "needs_background": "light"
          }
        }
      ]
    },
    {
      "cell_type": "code",
      "metadata": {
        "colab": {
          "base_uri": "https://localhost:8080/"
        },
        "id": "uSShH7S-psnf",
        "outputId": "b4b89e42-b2d5-4cdc-ecd2-0f9c289d633d"
      },
      "source": [
        "SVC=accuracy_score(y_pred,y_test)*100\n",
        "SVC"
      ],
      "execution_count": 66,
      "outputs": [
        {
          "output_type": "execute_result",
          "data": {
            "text/plain": [
              "84.8"
            ]
          },
          "metadata": {},
          "execution_count": 66
        }
      ]
    },
    {
      "cell_type": "code",
      "metadata": {
        "colab": {
          "base_uri": "https://localhost:8080/"
        },
        "id": "jMa2BecvpvYc",
        "outputId": "049cf220-dfcb-4e81-93a8-63fb4165a4df"
      },
      "source": [
        "print(\"accuracy for KNN is :\",KNN)\n",
        "print(\"accuracy for RandomForest is :\",RandomForest)\n",
        "print(\"accuracy for DecisionTree is :\",DecisionTree)\n",
        "print(\"accuracy for LogisticRegression is :\",LogisticRegression)\n",
        "print(\"accuracy for SVC is :\",SVC)"
      ],
      "execution_count": 67,
      "outputs": [
        {
          "output_type": "stream",
          "name": "stdout",
          "text": [
            "accuracy for KNN is : 75.6\n",
            "accuracy for RandomForest is : 87.2\n",
            "accuracy for DecisionTree is : 78.0\n",
            "accuracy for LogisticRegression is : 84.0\n",
            "accuracy for SVC is : 84.8\n"
          ]
        }
      ]
    },
    {
      "cell_type": "code",
      "metadata": {
        "colab": {
          "base_uri": "https://localhost:8080/"
        },
        "id": "U_FSnJbjp1Lu",
        "outputId": "604dac89-09a2-4776-9a69-f6571602417f"
      },
      "source": [
        "import joblib\n",
        "joblib.dump(rfc,\"parkinson-disease-classification\")"
      ],
      "execution_count": 68,
      "outputs": [
        {
          "output_type": "execute_result",
          "data": {
            "text/plain": [
              "['parkinson-disease-classification']"
            ]
          },
          "metadata": {},
          "execution_count": 68
        }
      ]
    }
  ]
}